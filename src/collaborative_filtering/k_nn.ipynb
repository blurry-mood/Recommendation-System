{
 "cells": [
  {
   "cell_type": "code",
   "execution_count": 40,
   "metadata": {},
   "outputs": [],
   "source": [
    "from surprise.model_selection import train_test_split\n",
    "from surprise import KNNBasic, accuracy\n",
    "from surprise import Dataset, Reader\n",
    "from surprise.dump import dump\n",
    "\n",
    "from recmetrics import rmse, mse, mark, mark_plot\n",
    "\n",
    "from os.path import join, split\n",
    "from random import sample\n",
    "\n",
    "import pandas as pd\n",
    "import numpy as np\n",
    "import matplotlib.pyplot as plt\n",
    "\n",
    "from tqdm import tqdm"
   ]
  },
  {
   "cell_type": "code",
   "execution_count": 2,
   "metadata": {
    "collapsed": false,
    "jupyter": {
     "outputs_hidden": false
    },
    "pycharm": {
     "name": "#%%\n"
    }
   },
   "outputs": [
    {
     "data": {
      "text/plain": [
       "'../../dataset/movielens/ratings.csv'"
      ]
     },
     "execution_count": 2,
     "metadata": {},
     "output_type": "execute_result"
    }
   ],
   "source": [
    "_HERE = ''\n",
    "dataset_path = join(_HERE, '..', '..', 'dataset', 'movielens', 'ratings.csv')\n",
    "dataset_path"
   ]
  },
  {
   "cell_type": "markdown",
   "metadata": {},
   "source": [
    "# Read dataset"
   ]
  },
  {
   "cell_type": "code",
   "execution_count": 21,
   "metadata": {},
   "outputs": [
    {
     "data": {
      "text/html": [
       "<div>\n",
       "<style scoped>\n",
       "    .dataframe tbody tr th:only-of-type {\n",
       "        vertical-align: middle;\n",
       "    }\n",
       "\n",
       "    .dataframe tbody tr th {\n",
       "        vertical-align: top;\n",
       "    }\n",
       "\n",
       "    .dataframe thead th {\n",
       "        text-align: right;\n",
       "    }\n",
       "</style>\n",
       "<table border=\"1\" class=\"dataframe\">\n",
       "  <thead>\n",
       "    <tr style=\"text-align: right;\">\n",
       "      <th></th>\n",
       "      <th>userId</th>\n",
       "      <th>movieId</th>\n",
       "      <th>rating</th>\n",
       "      <th>timestamp</th>\n",
       "    </tr>\n",
       "  </thead>\n",
       "  <tbody>\n",
       "    <tr>\n",
       "      <th>0</th>\n",
       "      <td>1</td>\n",
       "      <td>296</td>\n",
       "      <td>5.0</td>\n",
       "      <td>1147880044</td>\n",
       "    </tr>\n",
       "    <tr>\n",
       "      <th>1</th>\n",
       "      <td>1</td>\n",
       "      <td>306</td>\n",
       "      <td>3.5</td>\n",
       "      <td>1147868817</td>\n",
       "    </tr>\n",
       "    <tr>\n",
       "      <th>2</th>\n",
       "      <td>1</td>\n",
       "      <td>307</td>\n",
       "      <td>5.0</td>\n",
       "      <td>1147868828</td>\n",
       "    </tr>\n",
       "    <tr>\n",
       "      <th>3</th>\n",
       "      <td>1</td>\n",
       "      <td>665</td>\n",
       "      <td>5.0</td>\n",
       "      <td>1147878820</td>\n",
       "    </tr>\n",
       "    <tr>\n",
       "      <th>4</th>\n",
       "      <td>1</td>\n",
       "      <td>899</td>\n",
       "      <td>3.5</td>\n",
       "      <td>1147868510</td>\n",
       "    </tr>\n",
       "  </tbody>\n",
       "</table>\n",
       "</div>"
      ],
      "text/plain": [
       "   userId  movieId  rating   timestamp\n",
       "0       1      296     5.0  1147880044\n",
       "1       1      306     3.5  1147868817\n",
       "2       1      307     5.0  1147868828\n",
       "3       1      665     5.0  1147878820\n",
       "4       1      899     3.5  1147868510"
      ]
     },
     "execution_count": 21,
     "metadata": {},
     "output_type": "execute_result"
    }
   ],
   "source": [
    "ratings = pd.read_csv(dataset_path)\n",
    "ratings = ratings.query('rating >=3')\n",
    "ratings.reset_index(drop=True, inplace=True)\n",
    "\n",
    "ratings.head()"
   ]
  },
  {
   "cell_type": "markdown",
   "metadata": {},
   "source": [
    "# k-NN Model training"
   ]
  },
  {
   "cell_type": "code",
   "execution_count": 3,
   "metadata": {
    "collapsed": false,
    "jupyter": {
     "outputs_hidden": false
    },
    "pycharm": {
     "name": "#%%\n"
    }
   },
   "outputs": [],
   "source": [
    "reader = Reader(line_format='user item rating timestamp', sep=',' , rating_scale=(0.5, 5), skip_lines=162541*150)\n",
    "data = Dataset.load_from_file(dataset_path, reader=reader)\n",
    "trainset, testset = train_test_split(data, test_size=.25)"
   ]
  },
  {
   "cell_type": "code",
   "execution_count": 4,
   "metadata": {
    "collapsed": false,
    "jupyter": {
     "outputs_hidden": false
    },
    "pycharm": {
     "name": "#%%\n"
    }
   },
   "outputs": [],
   "source": [
    "sim_options = {'name': 'cosine',\n",
    "               'user_based': False  # compute  similarities between items\n",
    "               }\n",
    "algo = KNNBasic(k=2, sim_options=sim_options, verbose=True)"
   ]
  },
  {
   "cell_type": "code",
   "execution_count": 5,
   "metadata": {
    "collapsed": false,
    "jupyter": {
     "outputs_hidden": false
    },
    "pycharm": {
     "name": "#%%\n"
    }
   },
   "outputs": [
    {
     "name": "stdout",
     "output_type": "stream",
     "text": [
      "Computing the cosine similarity matrix...\n",
      "Done computing similarity matrix.\n"
     ]
    },
    {
     "data": {
      "text/plain": [
       "<surprise.prediction_algorithms.knns.KNNBasic at 0x7ff58c4302b0>"
      ]
     },
     "execution_count": 5,
     "metadata": {},
     "output_type": "execute_result"
    }
   ],
   "source": [
    "algo.fit(trainset)"
   ]
  },
  {
   "cell_type": "code",
   "execution_count": 44,
   "metadata": {
    "collapsed": false,
    "jupyter": {
     "outputs_hidden": false
    },
    "pycharm": {
     "name": "#%%\n"
    }
   },
   "outputs": [],
   "source": [
    "preds = algo.test(testset, verbose=False)"
   ]
  },
  {
   "cell_type": "code",
   "execution_count": 45,
   "metadata": {
    "collapsed": false,
    "jupyter": {
     "outputs_hidden": false
    },
    "pycharm": {
     "name": "#%%\n"
    }
   },
   "outputs": [
    {
     "data": {
      "text/html": [
       "<div>\n",
       "<style scoped>\n",
       "    .dataframe tbody tr th:only-of-type {\n",
       "        vertical-align: middle;\n",
       "    }\n",
       "\n",
       "    .dataframe tbody tr th {\n",
       "        vertical-align: top;\n",
       "    }\n",
       "\n",
       "    .dataframe thead th {\n",
       "        text-align: right;\n",
       "    }\n",
       "</style>\n",
       "<table border=\"1\" class=\"dataframe\">\n",
       "  <thead>\n",
       "    <tr style=\"text-align: right;\">\n",
       "      <th></th>\n",
       "      <th>userId</th>\n",
       "      <th>movieId</th>\n",
       "      <th>actual</th>\n",
       "      <th>cf_predictions</th>\n",
       "    </tr>\n",
       "  </thead>\n",
       "  <tbody>\n",
       "    <tr>\n",
       "      <th>0</th>\n",
       "      <td>160210</td>\n",
       "      <td>4022</td>\n",
       "      <td>2.0</td>\n",
       "      <td>3.000000</td>\n",
       "    </tr>\n",
       "    <tr>\n",
       "      <th>1</th>\n",
       "      <td>160933</td>\n",
       "      <td>4776</td>\n",
       "      <td>4.0</td>\n",
       "      <td>2.748980</td>\n",
       "    </tr>\n",
       "    <tr>\n",
       "      <th>2</th>\n",
       "      <td>161298</td>\n",
       "      <td>780</td>\n",
       "      <td>2.0</td>\n",
       "      <td>3.499992</td>\n",
       "    </tr>\n",
       "    <tr>\n",
       "      <th>3</th>\n",
       "      <td>159269</td>\n",
       "      <td>40732</td>\n",
       "      <td>4.5</td>\n",
       "      <td>3.250000</td>\n",
       "    </tr>\n",
       "    <tr>\n",
       "      <th>4</th>\n",
       "      <td>159504</td>\n",
       "      <td>7983</td>\n",
       "      <td>4.5</td>\n",
       "      <td>4.000000</td>\n",
       "    </tr>\n",
       "  </tbody>\n",
       "</table>\n",
       "</div>"
      ],
      "text/plain": [
       "   userId movieId  actual  cf_predictions\n",
       "0  160210    4022     2.0        3.000000\n",
       "1  160933    4776     4.0        2.748980\n",
       "2  161298     780     2.0        3.499992\n",
       "3  159269   40732     4.5        3.250000\n",
       "4  159504    7983     4.5        4.000000"
      ]
     },
     "execution_count": 45,
     "metadata": {},
     "output_type": "execute_result"
    }
   ],
   "source": [
    "preds = pd.DataFrame(preds)\n",
    "preds.drop(\"details\", inplace=True, axis=1)\n",
    "preds.columns = ['userId', 'movieId', 'actual', 'cf_predictions']\n",
    "preds.head()"
   ]
  },
  {
   "cell_type": "markdown",
   "metadata": {
    "jupyter": {
     "outputs_hidden": false
    },
    "pycharm": {
     "name": "#%%\n"
    }
   },
   "source": [
    "# Recommendations"
   ]
  },
  {
   "cell_type": "code",
   "execution_count": 43,
   "metadata": {},
   "outputs": [
    {
     "data": {
      "text/html": [
       "<div>\n",
       "<style scoped>\n",
       "    .dataframe tbody tr th:only-of-type {\n",
       "        vertical-align: middle;\n",
       "    }\n",
       "\n",
       "    .dataframe tbody tr th {\n",
       "        vertical-align: top;\n",
       "    }\n",
       "\n",
       "    .dataframe thead th {\n",
       "        text-align: right;\n",
       "    }\n",
       "</style>\n",
       "<table border=\"1\" class=\"dataframe\">\n",
       "  <thead>\n",
       "    <tr style=\"text-align: right;\">\n",
       "      <th>movieId</th>\n",
       "      <th>1</th>\n",
       "      <th>10</th>\n",
       "      <th>100</th>\n",
       "      <th>100036</th>\n",
       "      <th>100058</th>\n",
       "      <th>100060</th>\n",
       "      <th>100083</th>\n",
       "      <th>100106</th>\n",
       "      <th>100108</th>\n",
       "      <th>100159</th>\n",
       "      <th>...</th>\n",
       "      <th>99839</th>\n",
       "      <th>99841</th>\n",
       "      <th>999</th>\n",
       "      <th>99906</th>\n",
       "      <th>99910</th>\n",
       "      <th>99912</th>\n",
       "      <th>99917</th>\n",
       "      <th>99968</th>\n",
       "      <th>99986</th>\n",
       "      <th>99996</th>\n",
       "    </tr>\n",
       "    <tr>\n",
       "      <th>userId</th>\n",
       "      <th></th>\n",
       "      <th></th>\n",
       "      <th></th>\n",
       "      <th></th>\n",
       "      <th></th>\n",
       "      <th></th>\n",
       "      <th></th>\n",
       "      <th></th>\n",
       "      <th></th>\n",
       "      <th></th>\n",
       "      <th></th>\n",
       "      <th></th>\n",
       "      <th></th>\n",
       "      <th></th>\n",
       "      <th></th>\n",
       "      <th></th>\n",
       "      <th></th>\n",
       "      <th></th>\n",
       "      <th></th>\n",
       "      <th></th>\n",
       "      <th></th>\n",
       "    </tr>\n",
       "  </thead>\n",
       "  <tbody>\n",
       "    <tr>\n",
       "      <th>158413</th>\n",
       "      <td>0.0</td>\n",
       "      <td>0.000000</td>\n",
       "      <td>0.0</td>\n",
       "      <td>0.0</td>\n",
       "      <td>0.0</td>\n",
       "      <td>0.0</td>\n",
       "      <td>0.0</td>\n",
       "      <td>0.0</td>\n",
       "      <td>0.0</td>\n",
       "      <td>0.0</td>\n",
       "      <td>...</td>\n",
       "      <td>0.0</td>\n",
       "      <td>0.0</td>\n",
       "      <td>0.0</td>\n",
       "      <td>0.0</td>\n",
       "      <td>0.0</td>\n",
       "      <td>0.0</td>\n",
       "      <td>0.0</td>\n",
       "      <td>0.0</td>\n",
       "      <td>0.0</td>\n",
       "      <td>0.0</td>\n",
       "    </tr>\n",
       "    <tr>\n",
       "      <th>158414</th>\n",
       "      <td>0.0</td>\n",
       "      <td>0.000000</td>\n",
       "      <td>0.0</td>\n",
       "      <td>0.0</td>\n",
       "      <td>0.0</td>\n",
       "      <td>0.0</td>\n",
       "      <td>0.0</td>\n",
       "      <td>0.0</td>\n",
       "      <td>0.0</td>\n",
       "      <td>0.0</td>\n",
       "      <td>...</td>\n",
       "      <td>0.0</td>\n",
       "      <td>0.0</td>\n",
       "      <td>0.0</td>\n",
       "      <td>0.0</td>\n",
       "      <td>0.0</td>\n",
       "      <td>0.0</td>\n",
       "      <td>0.0</td>\n",
       "      <td>0.0</td>\n",
       "      <td>0.0</td>\n",
       "      <td>0.0</td>\n",
       "    </tr>\n",
       "    <tr>\n",
       "      <th>158415</th>\n",
       "      <td>0.0</td>\n",
       "      <td>0.000000</td>\n",
       "      <td>0.0</td>\n",
       "      <td>0.0</td>\n",
       "      <td>0.0</td>\n",
       "      <td>0.0</td>\n",
       "      <td>0.0</td>\n",
       "      <td>0.0</td>\n",
       "      <td>0.0</td>\n",
       "      <td>0.0</td>\n",
       "      <td>...</td>\n",
       "      <td>0.0</td>\n",
       "      <td>0.0</td>\n",
       "      <td>0.0</td>\n",
       "      <td>0.0</td>\n",
       "      <td>0.0</td>\n",
       "      <td>0.0</td>\n",
       "      <td>0.0</td>\n",
       "      <td>0.0</td>\n",
       "      <td>0.0</td>\n",
       "      <td>0.0</td>\n",
       "    </tr>\n",
       "    <tr>\n",
       "      <th>158416</th>\n",
       "      <td>0.0</td>\n",
       "      <td>0.000000</td>\n",
       "      <td>0.0</td>\n",
       "      <td>0.0</td>\n",
       "      <td>0.0</td>\n",
       "      <td>0.0</td>\n",
       "      <td>0.0</td>\n",
       "      <td>0.0</td>\n",
       "      <td>0.0</td>\n",
       "      <td>0.0</td>\n",
       "      <td>...</td>\n",
       "      <td>0.0</td>\n",
       "      <td>0.0</td>\n",
       "      <td>0.0</td>\n",
       "      <td>0.0</td>\n",
       "      <td>0.0</td>\n",
       "      <td>0.0</td>\n",
       "      <td>0.0</td>\n",
       "      <td>0.0</td>\n",
       "      <td>0.0</td>\n",
       "      <td>0.0</td>\n",
       "    </tr>\n",
       "    <tr>\n",
       "      <th>158417</th>\n",
       "      <td>0.0</td>\n",
       "      <td>3.249375</td>\n",
       "      <td>0.0</td>\n",
       "      <td>0.0</td>\n",
       "      <td>0.0</td>\n",
       "      <td>0.0</td>\n",
       "      <td>0.0</td>\n",
       "      <td>0.0</td>\n",
       "      <td>0.0</td>\n",
       "      <td>0.0</td>\n",
       "      <td>...</td>\n",
       "      <td>0.0</td>\n",
       "      <td>0.0</td>\n",
       "      <td>0.0</td>\n",
       "      <td>0.0</td>\n",
       "      <td>0.0</td>\n",
       "      <td>0.0</td>\n",
       "      <td>0.0</td>\n",
       "      <td>0.0</td>\n",
       "      <td>0.0</td>\n",
       "      <td>0.0</td>\n",
       "    </tr>\n",
       "  </tbody>\n",
       "</table>\n",
       "<p>5 rows × 11559 columns</p>\n",
       "</div>"
      ],
      "text/plain": [
       "movieId    1        10  100  100036  100058  100060  100083  100106  100108  \\\n",
       "userId                                                                        \n",
       "158413   0.0  0.000000  0.0     0.0     0.0     0.0     0.0     0.0     0.0   \n",
       "158414   0.0  0.000000  0.0     0.0     0.0     0.0     0.0     0.0     0.0   \n",
       "158415   0.0  0.000000  0.0     0.0     0.0     0.0     0.0     0.0     0.0   \n",
       "158416   0.0  0.000000  0.0     0.0     0.0     0.0     0.0     0.0     0.0   \n",
       "158417   0.0  3.249375  0.0     0.0     0.0     0.0     0.0     0.0     0.0   \n",
       "\n",
       "movieId  100159  ...  99839  99841  999  99906  99910  99912  99917  99968  \\\n",
       "userId           ...                                                         \n",
       "158413      0.0  ...    0.0    0.0  0.0    0.0    0.0    0.0    0.0    0.0   \n",
       "158414      0.0  ...    0.0    0.0  0.0    0.0    0.0    0.0    0.0    0.0   \n",
       "158415      0.0  ...    0.0    0.0  0.0    0.0    0.0    0.0    0.0    0.0   \n",
       "158416      0.0  ...    0.0    0.0  0.0    0.0    0.0    0.0    0.0    0.0   \n",
       "158417      0.0  ...    0.0    0.0  0.0    0.0    0.0    0.0    0.0    0.0   \n",
       "\n",
       "movieId  99986  99996  \n",
       "userId                 \n",
       "158413     0.0    0.0  \n",
       "158414     0.0    0.0  \n",
       "158415     0.0    0.0  \n",
       "158416     0.0    0.0  \n",
       "158417     0.0    0.0  \n",
       "\n",
       "[5 rows x 11559 columns]"
      ]
     },
     "execution_count": 43,
     "metadata": {},
     "output_type": "execute_result"
    }
   ],
   "source": [
    "cf_model = preds.pivot_table(index='userId', columns='movieId', values='cf_predictions').fillna(0)\n",
    "cf_model.head()"
   ]
  },
  {
   "cell_type": "code",
   "execution_count": 17,
   "metadata": {},
   "outputs": [
    {
     "data": {
      "text/html": [
       "<div>\n",
       "<style scoped>\n",
       "    .dataframe tbody tr th:only-of-type {\n",
       "        vertical-align: middle;\n",
       "    }\n",
       "\n",
       "    .dataframe tbody tr th {\n",
       "        vertical-align: top;\n",
       "    }\n",
       "\n",
       "    .dataframe thead th {\n",
       "        text-align: right;\n",
       "    }\n",
       "</style>\n",
       "<table border=\"1\" class=\"dataframe\">\n",
       "  <thead>\n",
       "    <tr style=\"text-align: right;\">\n",
       "      <th></th>\n",
       "      <th>actual</th>\n",
       "    </tr>\n",
       "    <tr>\n",
       "      <th>userId</th>\n",
       "      <th></th>\n",
       "    </tr>\n",
       "  </thead>\n",
       "  <tbody>\n",
       "    <tr>\n",
       "      <th>158413</th>\n",
       "      <td>[34162, 8781, 7153, 2150, 1884, 2022, 3424, 38...</td>\n",
       "    </tr>\n",
       "    <tr>\n",
       "      <th>158414</th>\n",
       "      <td>[81834, 141, 2424, 8464, 628, 260, 54286, 5008...</td>\n",
       "    </tr>\n",
       "    <tr>\n",
       "      <th>158415</th>\n",
       "      <td>[5459, 5724, 40815, 2136]</td>\n",
       "    </tr>\n",
       "    <tr>\n",
       "      <th>158416</th>\n",
       "      <td>[5553, 6, 4889, 3256, 1676, 2291, 3363, 858, 1...</td>\n",
       "    </tr>\n",
       "    <tr>\n",
       "      <th>158417</th>\n",
       "      <td>[590, 51077, 1036, 2, 150, 47200, 1923, 2797, ...</td>\n",
       "    </tr>\n",
       "  </tbody>\n",
       "</table>\n",
       "</div>"
      ],
      "text/plain": [
       "                                                   actual\n",
       "userId                                                   \n",
       "158413  [34162, 8781, 7153, 2150, 1884, 2022, 3424, 38...\n",
       "158414  [81834, 141, 2424, 8464, 628, 260, 54286, 5008...\n",
       "158415                          [5459, 5724, 40815, 2136]\n",
       "158416  [5553, 6, 4889, 3256, 1676, 2291, 3363, 858, 1...\n",
       "158417  [590, 51077, 1036, 2, 150, 47200, 1923, 2797, ..."
      ]
     },
     "execution_count": 17,
     "metadata": {},
     "output_type": "execute_result"
    }
   ],
   "source": [
    "test = preds.copy().groupby('userId', as_index=False)['movieId'].agg({'actual': (lambda x: list(set(x)))})\n",
    "test = test.set_index(\"userId\")\n",
    "test.head()"
   ]
  },
  {
   "cell_type": "markdown",
   "metadata": {},
   "source": [
    "# k-NN recommendations"
   ]
  },
  {
   "cell_type": "code",
   "execution_count": 15,
   "metadata": {},
   "outputs": [],
   "source": [
    "def get_users_predictions(user_id, n, model):\n",
    "    recommended_items = pd.DataFrame(model.loc[user_id])\n",
    "    recommended_items.columns = [\"predicted_rating\"]\n",
    "    recommended_items = recommended_items.sort_values('predicted_rating', ascending=False)    \n",
    "    recommended_items = recommended_items.head(n)\n",
    "    return recommended_items.index.tolist()"
   ]
  },
  {
   "cell_type": "code",
   "execution_count": 18,
   "metadata": {},
   "outputs": [
    {
     "data": {
      "text/html": [
       "<div>\n",
       "<style scoped>\n",
       "    .dataframe tbody tr th:only-of-type {\n",
       "        vertical-align: middle;\n",
       "    }\n",
       "\n",
       "    .dataframe tbody tr th {\n",
       "        vertical-align: top;\n",
       "    }\n",
       "\n",
       "    .dataframe thead th {\n",
       "        text-align: right;\n",
       "    }\n",
       "</style>\n",
       "<table border=\"1\" class=\"dataframe\">\n",
       "  <thead>\n",
       "    <tr style=\"text-align: right;\">\n",
       "      <th></th>\n",
       "      <th>actual</th>\n",
       "      <th>cf_predictions</th>\n",
       "    </tr>\n",
       "    <tr>\n",
       "      <th>userId</th>\n",
       "      <th></th>\n",
       "      <th></th>\n",
       "    </tr>\n",
       "  </thead>\n",
       "  <tbody>\n",
       "    <tr>\n",
       "      <th>158413</th>\n",
       "      <td>[34162, 8781, 7153, 2150, 1884, 2022, 3424, 38...</td>\n",
       "      <td>[3267, 3362, 1884, 1569, 3633, 8781, 3274, 194...</td>\n",
       "    </tr>\n",
       "    <tr>\n",
       "      <th>158414</th>\n",
       "      <td>[81834, 141, 2424, 8464, 628, 260, 54286, 5008...</td>\n",
       "      <td>[2424, 260, 91630, 8464, 8665, 141, 96079, 542...</td>\n",
       "    </tr>\n",
       "    <tr>\n",
       "      <th>158415</th>\n",
       "      <td>[5459, 5724, 40815, 2136]</td>\n",
       "      <td>[5724, 40815, 5459, 2136, 1, 5530, 55280, 5528...</td>\n",
       "    </tr>\n",
       "    <tr>\n",
       "      <th>158416</th>\n",
       "      <td>[5553, 6, 4889, 3256, 1676, 2291, 3363, 858, 1...</td>\n",
       "      <td>[6, 2291, 1729, 858, 3256, 5553, 4889, 1676, 3...</td>\n",
       "    </tr>\n",
       "    <tr>\n",
       "      <th>158417</th>\n",
       "      <td>[590, 51077, 1036, 2, 150, 47200, 1923, 2797, ...</td>\n",
       "      <td>[47200, 21, 51077, 296, 5952, 541, 4985, 10, 1...</td>\n",
       "    </tr>\n",
       "  </tbody>\n",
       "</table>\n",
       "</div>"
      ],
      "text/plain": [
       "                                                   actual  \\\n",
       "userId                                                      \n",
       "158413  [34162, 8781, 7153, 2150, 1884, 2022, 3424, 38...   \n",
       "158414  [81834, 141, 2424, 8464, 628, 260, 54286, 5008...   \n",
       "158415                          [5459, 5724, 40815, 2136]   \n",
       "158416  [5553, 6, 4889, 3256, 1676, 2291, 3363, 858, 1...   \n",
       "158417  [590, 51077, 1036, 2, 150, 47200, 1923, 2797, ...   \n",
       "\n",
       "                                           cf_predictions  \n",
       "userId                                                     \n",
       "158413  [3267, 3362, 1884, 1569, 3633, 8781, 3274, 194...  \n",
       "158414  [2424, 260, 91630, 8464, 8665, 141, 96079, 542...  \n",
       "158415  [5724, 40815, 5459, 2136, 1, 5530, 55280, 5528...  \n",
       "158416  [6, 2291, 1729, 858, 3256, 5553, 4889, 1676, 3...  \n",
       "158417  [47200, 21, 51077, 296, 5952, 541, 4985, 10, 1...  "
      ]
     },
     "execution_count": 18,
     "metadata": {},
     "output_type": "execute_result"
    }
   ],
   "source": [
    "# make recommendations for all members in the test data\n",
    "cf_recs = [] = []\n",
    "for user in tqdm(test.index, desc='k-NN recommendations', total=len(test.index)):\n",
    "    cf_predictions = get_users_predictions(user, 10, cf_model)\n",
    "    cf_recs.append(cf_predictions)\n",
    "        \n",
    "test['cf_predictions'] = cf_recs\n",
    "test.head()"
   ]
  },
  {
   "cell_type": "markdown",
   "metadata": {},
   "source": [
    "# Popularity-based recommendations"
   ]
  },
  {
   "cell_type": "code",
   "execution_count": 22,
   "metadata": {},
   "outputs": [
    {
     "data": {
      "text/html": [
       "<div>\n",
       "<style scoped>\n",
       "    .dataframe tbody tr th:only-of-type {\n",
       "        vertical-align: middle;\n",
       "    }\n",
       "\n",
       "    .dataframe tbody tr th {\n",
       "        vertical-align: top;\n",
       "    }\n",
       "\n",
       "    .dataframe thead th {\n",
       "        text-align: right;\n",
       "    }\n",
       "</style>\n",
       "<table border=\"1\" class=\"dataframe\">\n",
       "  <thead>\n",
       "    <tr style=\"text-align: right;\">\n",
       "      <th></th>\n",
       "      <th>actual</th>\n",
       "      <th>cf_predictions</th>\n",
       "      <th>pop_predictions</th>\n",
       "    </tr>\n",
       "    <tr>\n",
       "      <th>userId</th>\n",
       "      <th></th>\n",
       "      <th></th>\n",
       "      <th></th>\n",
       "    </tr>\n",
       "  </thead>\n",
       "  <tbody>\n",
       "    <tr>\n",
       "      <th>158413</th>\n",
       "      <td>[34162, 8781, 7153, 2150, 1884, 2022, 3424, 38...</td>\n",
       "      <td>[3267, 3362, 1884, 1569, 3633, 8781, 3274, 194...</td>\n",
       "      <td>[318, 356, 296, 593, 2571, 260, 527, 480, 2959...</td>\n",
       "    </tr>\n",
       "    <tr>\n",
       "      <th>158414</th>\n",
       "      <td>[81834, 141, 2424, 8464, 628, 260, 54286, 5008...</td>\n",
       "      <td>[2424, 260, 91630, 8464, 8665, 141, 96079, 542...</td>\n",
       "      <td>[318, 356, 296, 593, 2571, 260, 527, 480, 2959...</td>\n",
       "    </tr>\n",
       "    <tr>\n",
       "      <th>158415</th>\n",
       "      <td>[5459, 5724, 40815, 2136]</td>\n",
       "      <td>[5724, 40815, 5459, 2136, 1, 5530, 55280, 5528...</td>\n",
       "      <td>[318, 356, 296, 593, 2571, 260, 527, 480, 2959...</td>\n",
       "    </tr>\n",
       "    <tr>\n",
       "      <th>158416</th>\n",
       "      <td>[5553, 6, 4889, 3256, 1676, 2291, 3363, 858, 1...</td>\n",
       "      <td>[6, 2291, 1729, 858, 3256, 5553, 4889, 1676, 3...</td>\n",
       "      <td>[318, 356, 296, 593, 2571, 260, 527, 480, 2959...</td>\n",
       "    </tr>\n",
       "    <tr>\n",
       "      <th>158417</th>\n",
       "      <td>[590, 51077, 1036, 2, 150, 47200, 1923, 2797, ...</td>\n",
       "      <td>[47200, 21, 51077, 296, 5952, 541, 4985, 10, 1...</td>\n",
       "      <td>[318, 356, 296, 593, 2571, 260, 527, 480, 2959...</td>\n",
       "    </tr>\n",
       "  </tbody>\n",
       "</table>\n",
       "</div>"
      ],
      "text/plain": [
       "                                                   actual  \\\n",
       "userId                                                      \n",
       "158413  [34162, 8781, 7153, 2150, 1884, 2022, 3424, 38...   \n",
       "158414  [81834, 141, 2424, 8464, 628, 260, 54286, 5008...   \n",
       "158415                          [5459, 5724, 40815, 2136]   \n",
       "158416  [5553, 6, 4889, 3256, 1676, 2291, 3363, 858, 1...   \n",
       "158417  [590, 51077, 1036, 2, 150, 47200, 1923, 2797, ...   \n",
       "\n",
       "                                           cf_predictions  \\\n",
       "userId                                                      \n",
       "158413  [3267, 3362, 1884, 1569, 3633, 8781, 3274, 194...   \n",
       "158414  [2424, 260, 91630, 8464, 8665, 141, 96079, 542...   \n",
       "158415  [5724, 40815, 5459, 2136, 1, 5530, 55280, 5528...   \n",
       "158416  [6, 2291, 1729, 858, 3256, 5553, 4889, 1676, 3...   \n",
       "158417  [47200, 21, 51077, 296, 5952, 541, 4985, 10, 1...   \n",
       "\n",
       "                                          pop_predictions  \n",
       "userId                                                     \n",
       "158413  [318, 356, 296, 593, 2571, 260, 527, 480, 2959...  \n",
       "158414  [318, 356, 296, 593, 2571, 260, 527, 480, 2959...  \n",
       "158415  [318, 356, 296, 593, 2571, 260, 527, 480, 2959...  \n",
       "158416  [318, 356, 296, 593, 2571, 260, 527, 480, 2959...  \n",
       "158417  [318, 356, 296, 593, 2571, 260, 527, 480, 2959...  "
      ]
     },
     "execution_count": 22,
     "metadata": {},
     "output_type": "execute_result"
    }
   ],
   "source": [
    "#make recommendations for all members in the test data\n",
    "popularity_recs = ratings.movieId.value_counts().head(10).index.tolist()\n",
    "\n",
    "pop_recs = []\n",
    "for user in tqdm(test.index, desc='Popularity-based recommendations', total=len(test.index)):\n",
    "    pop_predictions = popularity_recs\n",
    "    pop_recs.append(pop_predictions)\n",
    "        \n",
    "test['pop_predictions'] = pop_recs\n",
    "test.head()"
   ]
  },
  {
   "cell_type": "markdown",
   "metadata": {},
   "source": [
    "# Random recommendations"
   ]
  },
  {
   "cell_type": "code",
   "execution_count": 27,
   "metadata": {},
   "outputs": [
    {
     "name": "stderr",
     "output_type": "stream",
     "text": [
      "Random recommendations: 100%|██████████| 4129/4129 [00:07<00:00, 582.88it/s]\n"
     ]
    },
    {
     "data": {
      "text/html": [
       "<div>\n",
       "<style scoped>\n",
       "    .dataframe tbody tr th:only-of-type {\n",
       "        vertical-align: middle;\n",
       "    }\n",
       "\n",
       "    .dataframe tbody tr th {\n",
       "        vertical-align: top;\n",
       "    }\n",
       "\n",
       "    .dataframe thead th {\n",
       "        text-align: right;\n",
       "    }\n",
       "</style>\n",
       "<table border=\"1\" class=\"dataframe\">\n",
       "  <thead>\n",
       "    <tr style=\"text-align: right;\">\n",
       "      <th></th>\n",
       "      <th>actual</th>\n",
       "      <th>cf_predictions</th>\n",
       "      <th>pop_predictions</th>\n",
       "      <th>random_predictions</th>\n",
       "    </tr>\n",
       "    <tr>\n",
       "      <th>userId</th>\n",
       "      <th></th>\n",
       "      <th></th>\n",
       "      <th></th>\n",
       "      <th></th>\n",
       "    </tr>\n",
       "  </thead>\n",
       "  <tbody>\n",
       "    <tr>\n",
       "      <th>158413</th>\n",
       "      <td>[34162, 8781, 7153, 2150, 1884, 2022, 3424, 38...</td>\n",
       "      <td>[3267, 3362, 1884, 1569, 3633, 8781, 3274, 194...</td>\n",
       "      <td>[318, 356, 296, 593, 2571, 260, 527, 480, 2959...</td>\n",
       "      <td>[45, 158890, 147942, 141321, 126558, 133339, 1...</td>\n",
       "    </tr>\n",
       "    <tr>\n",
       "      <th>158414</th>\n",
       "      <td>[81834, 141, 2424, 8464, 628, 260, 54286, 5008...</td>\n",
       "      <td>[2424, 260, 91630, 8464, 8665, 141, 96079, 542...</td>\n",
       "      <td>[318, 356, 296, 593, 2571, 260, 527, 480, 2959...</td>\n",
       "      <td>[82527, 7204, 32082, 152332, 146497, 36523, 55...</td>\n",
       "    </tr>\n",
       "    <tr>\n",
       "      <th>158415</th>\n",
       "      <td>[5459, 5724, 40815, 2136]</td>\n",
       "      <td>[5724, 40815, 5459, 2136, 1, 5530, 55280, 5528...</td>\n",
       "      <td>[318, 356, 296, 593, 2571, 260, 527, 480, 2959...</td>\n",
       "      <td>[178315, 194961, 161056, 7170, 48389, 194636, ...</td>\n",
       "    </tr>\n",
       "    <tr>\n",
       "      <th>158416</th>\n",
       "      <td>[5553, 6, 4889, 3256, 1676, 2291, 3363, 858, 1...</td>\n",
       "      <td>[6, 2291, 1729, 858, 3256, 5553, 4889, 1676, 3...</td>\n",
       "      <td>[318, 356, 296, 593, 2571, 260, 527, 480, 2959...</td>\n",
       "      <td>[142428, 140988, 79139, 73015, 3779, 100251, 5...</td>\n",
       "    </tr>\n",
       "    <tr>\n",
       "      <th>158417</th>\n",
       "      <td>[590, 51077, 1036, 2, 150, 47200, 1923, 2797, ...</td>\n",
       "      <td>[47200, 21, 51077, 296, 5952, 541, 4985, 10, 1...</td>\n",
       "      <td>[318, 356, 296, 593, 2571, 260, 527, 480, 2959...</td>\n",
       "      <td>[193565, 102245, 153338, 86440, 57692, 161119,...</td>\n",
       "    </tr>\n",
       "  </tbody>\n",
       "</table>\n",
       "</div>"
      ],
      "text/plain": [
       "                                                   actual  \\\n",
       "userId                                                      \n",
       "158413  [34162, 8781, 7153, 2150, 1884, 2022, 3424, 38...   \n",
       "158414  [81834, 141, 2424, 8464, 628, 260, 54286, 5008...   \n",
       "158415                          [5459, 5724, 40815, 2136]   \n",
       "158416  [5553, 6, 4889, 3256, 1676, 2291, 3363, 858, 1...   \n",
       "158417  [590, 51077, 1036, 2, 150, 47200, 1923, 2797, ...   \n",
       "\n",
       "                                           cf_predictions  \\\n",
       "userId                                                      \n",
       "158413  [3267, 3362, 1884, 1569, 3633, 8781, 3274, 194...   \n",
       "158414  [2424, 260, 91630, 8464, 8665, 141, 96079, 542...   \n",
       "158415  [5724, 40815, 5459, 2136, 1, 5530, 55280, 5528...   \n",
       "158416  [6, 2291, 1729, 858, 3256, 5553, 4889, 1676, 3...   \n",
       "158417  [47200, 21, 51077, 296, 5952, 541, 4985, 10, 1...   \n",
       "\n",
       "                                          pop_predictions  \\\n",
       "userId                                                      \n",
       "158413  [318, 356, 296, 593, 2571, 260, 527, 480, 2959...   \n",
       "158414  [318, 356, 296, 593, 2571, 260, 527, 480, 2959...   \n",
       "158415  [318, 356, 296, 593, 2571, 260, 527, 480, 2959...   \n",
       "158416  [318, 356, 296, 593, 2571, 260, 527, 480, 2959...   \n",
       "158417  [318, 356, 296, 593, 2571, 260, 527, 480, 2959...   \n",
       "\n",
       "                                       random_predictions  \n",
       "userId                                                     \n",
       "158413  [45, 158890, 147942, 141321, 126558, 133339, 1...  \n",
       "158414  [82527, 7204, 32082, 152332, 146497, 36523, 55...  \n",
       "158415  [178315, 194961, 161056, 7170, 48389, 194636, ...  \n",
       "158416  [142428, 140988, 79139, 73015, 3779, 100251, 5...  \n",
       "158417  [193565, 102245, 153338, 86440, 57692, 161119,...  "
      ]
     },
     "execution_count": 27,
     "metadata": {},
     "output_type": "execute_result"
    }
   ],
   "source": [
    "# make recommendations for all members in the test data\n",
    "\n",
    "ran_recs = []\n",
    "movies = set(ratings.movieId.values.tolist())\n",
    "\n",
    "for user in tqdm(test.index, desc='Random recommendations', total=len(test.index)):\n",
    "    random_predictions = sample(movies, 10)\n",
    "    ran_recs.append(random_predictions)\n",
    "        \n",
    "test['random_predictions'] = ran_recs\n",
    "test.head()"
   ]
  },
  {
   "cell_type": "code",
   "execution_count": 25,
   "metadata": {},
   "outputs": [],
   "source": []
  },
  {
   "cell_type": "markdown",
   "metadata": {},
   "source": [
    "# Model Evaluation"
   ]
  },
  {
   "cell_type": "code",
   "execution_count": 28,
   "metadata": {},
   "outputs": [],
   "source": [
    "actual = test.actual.values.tolist()\n",
    "cf_predictions = test.cf_predictions.values.tolist()\n",
    "pop_predictions = test.pop_predictions.values.tolist()\n",
    "random_predictions = test.random_predictions.values.tolist()"
   ]
  },
  {
   "cell_type": "code",
   "execution_count": 35,
   "metadata": {},
   "outputs": [
    {
     "data": {
      "text/plain": [
       "[0.0, 0.0, 0.0, 0.0, 0.0, 0.0, 0.0, 0.0, 0.0, 0.0]"
      ]
     },
     "execution_count": 35,
     "metadata": {},
     "output_type": "execute_result"
    }
   ],
   "source": [
    "pop_mark = []\n",
    "for K in np.arange(1, 11):\n",
    "    pop_mark.extend([mark(actual, pop_predictions, k=K)])\n",
    "pop_mark"
   ]
  },
  {
   "cell_type": "code",
   "execution_count": 36,
   "metadata": {},
   "outputs": [
    {
     "data": {
      "text/plain": [
       "[0.0, 0.0, 0.0, 0.0, 0.0, 0.0, 0.0, 0.0, 0.0, 0.0]"
      ]
     },
     "execution_count": 36,
     "metadata": {},
     "output_type": "execute_result"
    }
   ],
   "source": [
    "random_mark = []\n",
    "for K in np.arange(1, 11):\n",
    "    random_mark.extend([mark(actual, random_predictions, k=K)])\n",
    "random_mark"
   ]
  },
  {
   "cell_type": "code",
   "execution_count": 37,
   "metadata": {},
   "outputs": [
    {
     "data": {
      "text/plain": [
       "[0.08090895013568725,\n",
       " 0.15939600635032825,\n",
       " 0.23449241107550445,\n",
       " 0.3040184597822743,\n",
       " 0.3677319630785331,\n",
       " 0.42408290885481126,\n",
       " 0.47175540141400707,\n",
       " 0.512439000086755,\n",
       " 0.5474614217190574,\n",
       " 0.5784473534829493]"
      ]
     },
     "execution_count": 37,
     "metadata": {},
     "output_type": "execute_result"
    }
   ],
   "source": [
    "cf_mark = []\n",
    "for K in np.arange(1, 11):\n",
    "    cf_mark.extend([mark(actual, cf_predictions, k=K)])\n",
    "cf_mark"
   ]
  },
  {
   "cell_type": "code",
   "execution_count": 42,
   "metadata": {},
   "outputs": [
    {
     "data": {
      "text/html": [
       "<div>\n",
       "<style scoped>\n",
       "    .dataframe tbody tr th:only-of-type {\n",
       "        vertical-align: middle;\n",
       "    }\n",
       "\n",
       "    .dataframe tbody tr th {\n",
       "        vertical-align: top;\n",
       "    }\n",
       "\n",
       "    .dataframe thead th {\n",
       "        text-align: right;\n",
       "    }\n",
       "</style>\n",
       "<table border=\"1\" class=\"dataframe\">\n",
       "  <thead>\n",
       "    <tr style=\"text-align: right;\">\n",
       "      <th></th>\n",
       "      <th>actual</th>\n",
       "      <th>cf_predictions</th>\n",
       "      <th>pop_predictions</th>\n",
       "      <th>random_predictions</th>\n",
       "    </tr>\n",
       "    <tr>\n",
       "      <th>userId</th>\n",
       "      <th></th>\n",
       "      <th></th>\n",
       "      <th></th>\n",
       "      <th></th>\n",
       "    </tr>\n",
       "  </thead>\n",
       "  <tbody>\n",
       "    <tr>\n",
       "      <th>158413</th>\n",
       "      <td>[34162, 8781, 7153, 2150, 1884, 2022, 3424, 38...</td>\n",
       "      <td>[3267, 3362, 1884, 1569, 3633, 8781, 3274, 194...</td>\n",
       "      <td>[318, 356, 296, 593, 2571, 260, 527, 480, 2959...</td>\n",
       "      <td>[45, 158890, 147942, 141321, 126558, 133339, 1...</td>\n",
       "    </tr>\n",
       "    <tr>\n",
       "      <th>158414</th>\n",
       "      <td>[81834, 141, 2424, 8464, 628, 260, 54286, 5008...</td>\n",
       "      <td>[2424, 260, 91630, 8464, 8665, 141, 96079, 542...</td>\n",
       "      <td>[318, 356, 296, 593, 2571, 260, 527, 480, 2959...</td>\n",
       "      <td>[82527, 7204, 32082, 152332, 146497, 36523, 55...</td>\n",
       "    </tr>\n",
       "    <tr>\n",
       "      <th>158415</th>\n",
       "      <td>[5459, 5724, 40815, 2136]</td>\n",
       "      <td>[5724, 40815, 5459, 2136, 1, 5530, 55280, 5528...</td>\n",
       "      <td>[318, 356, 296, 593, 2571, 260, 527, 480, 2959...</td>\n",
       "      <td>[178315, 194961, 161056, 7170, 48389, 194636, ...</td>\n",
       "    </tr>\n",
       "    <tr>\n",
       "      <th>158416</th>\n",
       "      <td>[5553, 6, 4889, 3256, 1676, 2291, 3363, 858, 1...</td>\n",
       "      <td>[6, 2291, 1729, 858, 3256, 5553, 4889, 1676, 3...</td>\n",
       "      <td>[318, 356, 296, 593, 2571, 260, 527, 480, 2959...</td>\n",
       "      <td>[142428, 140988, 79139, 73015, 3779, 100251, 5...</td>\n",
       "    </tr>\n",
       "    <tr>\n",
       "      <th>158417</th>\n",
       "      <td>[590, 51077, 1036, 2, 150, 47200, 1923, 2797, ...</td>\n",
       "      <td>[47200, 21, 51077, 296, 5952, 541, 4985, 10, 1...</td>\n",
       "      <td>[318, 356, 296, 593, 2571, 260, 527, 480, 2959...</td>\n",
       "      <td>[193565, 102245, 153338, 86440, 57692, 161119,...</td>\n",
       "    </tr>\n",
       "  </tbody>\n",
       "</table>\n",
       "</div>"
      ],
      "text/plain": [
       "                                                   actual  \\\n",
       "userId                                                      \n",
       "158413  [34162, 8781, 7153, 2150, 1884, 2022, 3424, 38...   \n",
       "158414  [81834, 141, 2424, 8464, 628, 260, 54286, 5008...   \n",
       "158415                          [5459, 5724, 40815, 2136]   \n",
       "158416  [5553, 6, 4889, 3256, 1676, 2291, 3363, 858, 1...   \n",
       "158417  [590, 51077, 1036, 2, 150, 47200, 1923, 2797, ...   \n",
       "\n",
       "                                           cf_predictions  \\\n",
       "userId                                                      \n",
       "158413  [3267, 3362, 1884, 1569, 3633, 8781, 3274, 194...   \n",
       "158414  [2424, 260, 91630, 8464, 8665, 141, 96079, 542...   \n",
       "158415  [5724, 40815, 5459, 2136, 1, 5530, 55280, 5528...   \n",
       "158416  [6, 2291, 1729, 858, 3256, 5553, 4889, 1676, 3...   \n",
       "158417  [47200, 21, 51077, 296, 5952, 541, 4985, 10, 1...   \n",
       "\n",
       "                                          pop_predictions  \\\n",
       "userId                                                      \n",
       "158413  [318, 356, 296, 593, 2571, 260, 527, 480, 2959...   \n",
       "158414  [318, 356, 296, 593, 2571, 260, 527, 480, 2959...   \n",
       "158415  [318, 356, 296, 593, 2571, 260, 527, 480, 2959...   \n",
       "158416  [318, 356, 296, 593, 2571, 260, 527, 480, 2959...   \n",
       "158417  [318, 356, 296, 593, 2571, 260, 527, 480, 2959...   \n",
       "\n",
       "                                       random_predictions  \n",
       "userId                                                     \n",
       "158413  [45, 158890, 147942, 141321, 126558, 133339, 1...  \n",
       "158414  [82527, 7204, 32082, 152332, 146497, 36523, 55...  \n",
       "158415  [178315, 194961, 161056, 7170, 48389, 194636, ...  \n",
       "158416  [142428, 140988, 79139, 73015, 3779, 100251, 5...  \n",
       "158417  [193565, 102245, 153338, 86440, 57692, 161119,...  "
      ]
     },
     "execution_count": 42,
     "metadata": {},
     "output_type": "execute_result"
    }
   ],
   "source": [
    "test.head()"
   ]
  },
  {
   "cell_type": "code",
   "execution_count": 52,
   "metadata": {
    "collapsed": false,
    "jupyter": {
     "outputs_hidden": false
    },
    "pycharm": {
     "name": "#%%\n"
    }
   },
   "outputs": [
    {
     "name": "stdout",
     "output_type": "stream",
     "text": [
      "MSE:  1.4470384238070022\n",
      "RMSE:  1.2029291017375057\n"
     ]
    }
   ],
   "source": [
    "print(\"MSE: \", mse(preds.actual, preds.cf_predictions))\n",
    "print(\"RMSE: \", rmse(preds.actual, preds.cf_predictions))"
   ]
  },
  {
   "cell_type": "code",
   "execution_count": 41,
   "metadata": {},
   "outputs": [
    {
     "data": {
      "image/png": "[encoded data removed]",
      "text/plain": [
       "<Figure size 1080x504 with 1 Axes>"
      ]
     },
     "metadata": {
      "needs_background": "light"
     },
     "output_type": "display_data"
    }
   ],
   "source": [
    "mark_scores = [random_mark, pop_mark, cf_mark]\n",
    "index = range(1,11)\n",
    "names = ['Random Recommender', 'Popularity Recommender', 'Collaborative Filter']\n",
    "\n",
    "fig = plt.figure(figsize=(15, 7))\n",
    "mark_plot(mark_scores, model_names=names, k_range=index)"
   ]
  },
  {
   "cell_type": "markdown",
   "metadata": {},
   "source": [
    "# Saving predictions & model"
   ]
  },
  {
   "cell_type": "code",
   "execution_count": 51,
   "metadata": {},
   "outputs": [
    {
     "name": "stdout",
     "output_type": "stream",
     "text": [
      "The dump has been saved as file ../../artifacts/k-nn.dump\n"
     ]
    }
   ],
   "source": [
    "dumping_path = join(_HERE, '..', '..', 'artifacts', 'k-nn.dump')\n",
    "dump(dumping_path, preds, algo, verbose=1)"
   ]
  },
  {
   "cell_type": "code",
   "execution_count": null,
   "metadata": {},
   "outputs": [],
   "source": []
  }
 ],
 "metadata": {
  "kernelspec": {
   "display_name": "Python 3",
   "language": "python",
   "name": "python3"
  },
  "language_info": {
   "codemirror_mode": {
    "name": "ipython",
    "version": 3
   },
   "file_extension": ".py",
   "mimetype": "text/x-python",
   "name": "python",
   "nbconvert_exporter": "python",
   "pygments_lexer": "ipython3",
   "version": "3.8.5"
  }
 },
 "nbformat": 4,
 "nbformat_minor": 4
}
