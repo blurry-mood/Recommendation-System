{
 "cells": [
  {
   "cell_type": "code",
   "execution_count": 1,
   "metadata": {},
   "outputs": [],
   "source": [
    "from surprise.model_selection import train_test_split\n",
    "from surprise import KNNBasic, accuracy\n",
    "from surprise import Dataset, Reader\n",
    "from surprise.dump import dump\n",
    "\n",
    "from recmetrics import rmse, mse, mark, mark_plot\n",
    "\n",
    "from os.path import join, split\n",
    "from random import sample\n",
    "\n",
    "import pandas as pd\n",
    "import numpy as np\n",
    "import matplotlib.pyplot as plt\n",
    "\n",
    "from tqdm import tqdm\n",
    "\n",
    "from utils import *"
   ]
  },
  {
   "cell_type": "code",
   "execution_count": 2,
   "metadata": {
    "collapsed": false,
    "jupyter": {
     "outputs_hidden": false
    },
    "pycharm": {
     "name": "#%%\n"
    }
   },
   "outputs": [],
   "source": [
    "_HERE = '' # split(__file__)[0]"
   ]
  },
  {
   "cell_type": "markdown",
   "metadata": {},
   "source": [
    "# Read dataset"
   ]
  },
  {
   "cell_type": "code",
   "execution_count": 3,
   "metadata": {},
   "outputs": [
    {
     "data": {
      "text/html": [
       "<div>\n",
       "<style scoped>\n",
       "    .dataframe tbody tr th:only-of-type {\n",
       "        vertical-align: middle;\n",
       "    }\n",
       "\n",
       "    .dataframe tbody tr th {\n",
       "        vertical-align: top;\n",
       "    }\n",
       "\n",
       "    .dataframe thead th {\n",
       "        text-align: right;\n",
       "    }\n",
       "</style>\n",
       "<table border=\"1\" class=\"dataframe\">\n",
       "  <thead>\n",
       "    <tr style=\"text-align: right;\">\n",
       "      <th></th>\n",
       "      <th>userId</th>\n",
       "      <th>movieId</th>\n",
       "      <th>rating</th>\n",
       "    </tr>\n",
       "  </thead>\n",
       "  <tbody>\n",
       "    <tr>\n",
       "      <th>0</th>\n",
       "      <td>142600</td>\n",
       "      <td>648</td>\n",
       "      <td>3.0</td>\n",
       "    </tr>\n",
       "    <tr>\n",
       "      <th>1</th>\n",
       "      <td>7784</td>\n",
       "      <td>86347</td>\n",
       "      <td>4.0</td>\n",
       "    </tr>\n",
       "    <tr>\n",
       "      <th>2</th>\n",
       "      <td>103640</td>\n",
       "      <td>2324</td>\n",
       "      <td>5.0</td>\n",
       "    </tr>\n",
       "    <tr>\n",
       "      <th>3</th>\n",
       "      <td>39345</td>\n",
       "      <td>5219</td>\n",
       "      <td>4.0</td>\n",
       "    </tr>\n",
       "    <tr>\n",
       "      <th>4</th>\n",
       "      <td>81355</td>\n",
       "      <td>2966</td>\n",
       "      <td>3.0</td>\n",
       "    </tr>\n",
       "  </tbody>\n",
       "</table>\n",
       "</div>"
      ],
      "text/plain": [
       "   userId  movieId  rating\n",
       "0  142600      648     3.0\n",
       "1    7784    86347     4.0\n",
       "2  103640     2324     5.0\n",
       "3   39345     5219     4.0\n",
       "4   81355     2966     3.0"
      ]
     },
     "execution_count": 3,
     "metadata": {},
     "output_type": "execute_result"
    }
   ],
   "source": [
    "ratings = ratings_df()\n",
    "ratings = ratings.query('rating >=3')\n",
    "ratings = ratings.sample(n=1000)\n",
    "ratings.reset_index(drop=True, inplace=True)\n",
    "\n",
    "ratings.head()"
   ]
  },
  {
   "cell_type": "markdown",
   "metadata": {},
   "source": [
    "# k-NN Model training"
   ]
  },
  {
   "cell_type": "code",
   "execution_count": 4,
   "metadata": {
    "collapsed": false,
    "jupyter": {
     "outputs_hidden": false
    },
    "pycharm": {
     "name": "#%%\n"
    }
   },
   "outputs": [],
   "source": [
    "reader = Reader(rating_scale=(0, 5))\n",
    "data = Dataset.load_from_df(ratings[['userId', 'movieId', 'rating']], reader=reader)\n",
    "trainset, testset = train_test_split(data, test_size=.25)"
   ]
  },
  {
   "cell_type": "code",
   "execution_count": 5,
   "metadata": {
    "collapsed": false,
    "jupyter": {
     "outputs_hidden": false
    },
    "pycharm": {
     "name": "#%%\n"
    }
   },
   "outputs": [],
   "source": [
    "sim_options = {'name': 'cosine',\n",
    "               'user_based': False  # compute  similarities between items\n",
    "               }\n",
    "algo = KNNBasic(k=2, sim_options=sim_options, verbose=True)"
   ]
  },
  {
   "cell_type": "code",
   "execution_count": 6,
   "metadata": {
    "collapsed": false,
    "jupyter": {
     "outputs_hidden": false
    },
    "pycharm": {
     "name": "#%%\n"
    }
   },
   "outputs": [
    {
     "name": "stdout",
     "output_type": "stream",
     "text": [
      "Computing the cosine similarity matrix...\n",
      "Done computing similarity matrix.\n"
     ]
    },
    {
     "data": {
      "text/plain": [
       "<surprise.prediction_algorithms.knns.KNNBasic at 0x7f7d108b9940>"
      ]
     },
     "execution_count": 6,
     "metadata": {},
     "output_type": "execute_result"
    }
   ],
   "source": [
    "algo.fit(trainset)"
   ]
  },
  {
   "cell_type": "code",
   "execution_count": 7,
   "metadata": {},
   "outputs": [
    {
     "data": {
      "text/plain": [
       "(76710, 1266, 5.0)"
      ]
     },
     "execution_count": 7,
     "metadata": {},
     "output_type": "execute_result"
    }
   ],
   "source": [
    "testset[0]"
   ]
  },
  {
   "cell_type": "code",
   "execution_count": null,
   "metadata": {},
   "outputs": [],
   "source": []
  },
  {
   "cell_type": "code",
   "execution_count": 8,
   "metadata": {
    "collapsed": false,
    "jupyter": {
     "outputs_hidden": false
    },
    "pycharm": {
     "name": "#%%\n"
    }
   },
   "outputs": [],
   "source": [
    "preds = algo.test(testset, verbose=False)"
   ]
  },
  {
   "cell_type": "code",
   "execution_count": 9,
   "metadata": {
    "collapsed": false,
    "jupyter": {
     "outputs_hidden": false
    },
    "pycharm": {
     "name": "#%%\n"
    }
   },
   "outputs": [
    {
     "data": {
      "text/html": [
       "<div>\n",
       "<style scoped>\n",
       "    .dataframe tbody tr th:only-of-type {\n",
       "        vertical-align: middle;\n",
       "    }\n",
       "\n",
       "    .dataframe tbody tr th {\n",
       "        vertical-align: top;\n",
       "    }\n",
       "\n",
       "    .dataframe thead th {\n",
       "        text-align: right;\n",
       "    }\n",
       "</style>\n",
       "<table border=\"1\" class=\"dataframe\">\n",
       "  <thead>\n",
       "    <tr style=\"text-align: right;\">\n",
       "      <th></th>\n",
       "      <th>userId</th>\n",
       "      <th>movieId</th>\n",
       "      <th>actual</th>\n",
       "      <th>cf_predictions</th>\n",
       "    </tr>\n",
       "  </thead>\n",
       "  <tbody>\n",
       "    <tr>\n",
       "      <th>0</th>\n",
       "      <td>76710</td>\n",
       "      <td>1266</td>\n",
       "      <td>5.0</td>\n",
       "      <td>3.892</td>\n",
       "    </tr>\n",
       "    <tr>\n",
       "      <th>1</th>\n",
       "      <td>24856</td>\n",
       "      <td>1307</td>\n",
       "      <td>3.5</td>\n",
       "      <td>3.892</td>\n",
       "    </tr>\n",
       "    <tr>\n",
       "      <th>2</th>\n",
       "      <td>118803</td>\n",
       "      <td>3487</td>\n",
       "      <td>3.0</td>\n",
       "      <td>3.892</td>\n",
       "    </tr>\n",
       "    <tr>\n",
       "      <th>3</th>\n",
       "      <td>9633</td>\n",
       "      <td>1214</td>\n",
       "      <td>4.0</td>\n",
       "      <td>3.892</td>\n",
       "    </tr>\n",
       "    <tr>\n",
       "      <th>4</th>\n",
       "      <td>74045</td>\n",
       "      <td>17</td>\n",
       "      <td>4.0</td>\n",
       "      <td>3.892</td>\n",
       "    </tr>\n",
       "  </tbody>\n",
       "</table>\n",
       "</div>"
      ],
      "text/plain": [
       "   userId  movieId  actual  cf_predictions\n",
       "0   76710     1266     5.0           3.892\n",
       "1   24856     1307     3.5           3.892\n",
       "2  118803     3487     3.0           3.892\n",
       "3    9633     1214     4.0           3.892\n",
       "4   74045       17     4.0           3.892"
      ]
     },
     "execution_count": 9,
     "metadata": {},
     "output_type": "execute_result"
    }
   ],
   "source": [
    "preds = pd.DataFrame(preds)\n",
    "preds.drop(\"details\", inplace=True, axis=1)\n",
    "preds.columns = ['userId', 'movieId', 'actual', 'cf_predictions']\n",
    "preds.head()"
   ]
  },
  {
   "cell_type": "markdown",
   "metadata": {
    "jupyter": {
     "outputs_hidden": false
    },
    "pycharm": {
     "name": "#%%\n"
    }
   },
   "source": [
    "# Recommendations"
   ]
  },
  {
   "cell_type": "code",
   "execution_count": 10,
   "metadata": {},
   "outputs": [
    {
     "data": {
      "text/html": [
       "<div>\n",
       "<style scoped>\n",
       "    .dataframe tbody tr th:only-of-type {\n",
       "        vertical-align: middle;\n",
       "    }\n",
       "\n",
       "    .dataframe tbody tr th {\n",
       "        vertical-align: top;\n",
       "    }\n",
       "\n",
       "    .dataframe thead th {\n",
       "        text-align: right;\n",
       "    }\n",
       "</style>\n",
       "<table border=\"1\" class=\"dataframe\">\n",
       "  <thead>\n",
       "    <tr style=\"text-align: right;\">\n",
       "      <th>movieId</th>\n",
       "      <th>1</th>\n",
       "      <th>6</th>\n",
       "      <th>17</th>\n",
       "      <th>30</th>\n",
       "      <th>31</th>\n",
       "      <th>36</th>\n",
       "      <th>47</th>\n",
       "      <th>50</th>\n",
       "      <th>61</th>\n",
       "      <th>62</th>\n",
       "      <th>...</th>\n",
       "      <th>104841</th>\n",
       "      <th>109487</th>\n",
       "      <th>114180</th>\n",
       "      <th>132952</th>\n",
       "      <th>136556</th>\n",
       "      <th>139385</th>\n",
       "      <th>142115</th>\n",
       "      <th>144580</th>\n",
       "      <th>165551</th>\n",
       "      <th>201747</th>\n",
       "    </tr>\n",
       "    <tr>\n",
       "      <th>userId</th>\n",
       "      <th></th>\n",
       "      <th></th>\n",
       "      <th></th>\n",
       "      <th></th>\n",
       "      <th></th>\n",
       "      <th></th>\n",
       "      <th></th>\n",
       "      <th></th>\n",
       "      <th></th>\n",
       "      <th></th>\n",
       "      <th></th>\n",
       "      <th></th>\n",
       "      <th></th>\n",
       "      <th></th>\n",
       "      <th></th>\n",
       "      <th></th>\n",
       "      <th></th>\n",
       "      <th></th>\n",
       "      <th></th>\n",
       "      <th></th>\n",
       "      <th></th>\n",
       "    </tr>\n",
       "  </thead>\n",
       "  <tbody>\n",
       "    <tr>\n",
       "      <th>3472</th>\n",
       "      <td>0.000</td>\n",
       "      <td>0.0</td>\n",
       "      <td>0.0</td>\n",
       "      <td>0.0</td>\n",
       "      <td>0.0</td>\n",
       "      <td>0.0</td>\n",
       "      <td>0.0</td>\n",
       "      <td>0.0</td>\n",
       "      <td>0.0</td>\n",
       "      <td>0.0</td>\n",
       "      <td>...</td>\n",
       "      <td>0.0</td>\n",
       "      <td>0.0</td>\n",
       "      <td>0.0</td>\n",
       "      <td>0.0</td>\n",
       "      <td>0.0</td>\n",
       "      <td>0.0</td>\n",
       "      <td>0.0</td>\n",
       "      <td>0.0</td>\n",
       "      <td>0.0</td>\n",
       "      <td>0.0</td>\n",
       "    </tr>\n",
       "    <tr>\n",
       "      <th>4254</th>\n",
       "      <td>0.000</td>\n",
       "      <td>0.0</td>\n",
       "      <td>0.0</td>\n",
       "      <td>0.0</td>\n",
       "      <td>0.0</td>\n",
       "      <td>0.0</td>\n",
       "      <td>0.0</td>\n",
       "      <td>0.0</td>\n",
       "      <td>0.0</td>\n",
       "      <td>0.0</td>\n",
       "      <td>...</td>\n",
       "      <td>0.0</td>\n",
       "      <td>0.0</td>\n",
       "      <td>0.0</td>\n",
       "      <td>0.0</td>\n",
       "      <td>0.0</td>\n",
       "      <td>0.0</td>\n",
       "      <td>0.0</td>\n",
       "      <td>0.0</td>\n",
       "      <td>0.0</td>\n",
       "      <td>0.0</td>\n",
       "    </tr>\n",
       "    <tr>\n",
       "      <th>4458</th>\n",
       "      <td>0.000</td>\n",
       "      <td>0.0</td>\n",
       "      <td>0.0</td>\n",
       "      <td>0.0</td>\n",
       "      <td>0.0</td>\n",
       "      <td>0.0</td>\n",
       "      <td>0.0</td>\n",
       "      <td>0.0</td>\n",
       "      <td>0.0</td>\n",
       "      <td>0.0</td>\n",
       "      <td>...</td>\n",
       "      <td>0.0</td>\n",
       "      <td>0.0</td>\n",
       "      <td>0.0</td>\n",
       "      <td>0.0</td>\n",
       "      <td>0.0</td>\n",
       "      <td>0.0</td>\n",
       "      <td>0.0</td>\n",
       "      <td>0.0</td>\n",
       "      <td>0.0</td>\n",
       "      <td>0.0</td>\n",
       "    </tr>\n",
       "    <tr>\n",
       "      <th>5016</th>\n",
       "      <td>0.000</td>\n",
       "      <td>0.0</td>\n",
       "      <td>0.0</td>\n",
       "      <td>0.0</td>\n",
       "      <td>0.0</td>\n",
       "      <td>0.0</td>\n",
       "      <td>0.0</td>\n",
       "      <td>0.0</td>\n",
       "      <td>0.0</td>\n",
       "      <td>0.0</td>\n",
       "      <td>...</td>\n",
       "      <td>0.0</td>\n",
       "      <td>0.0</td>\n",
       "      <td>0.0</td>\n",
       "      <td>0.0</td>\n",
       "      <td>0.0</td>\n",
       "      <td>0.0</td>\n",
       "      <td>0.0</td>\n",
       "      <td>0.0</td>\n",
       "      <td>0.0</td>\n",
       "      <td>0.0</td>\n",
       "    </tr>\n",
       "    <tr>\n",
       "      <th>5335</th>\n",
       "      <td>3.892</td>\n",
       "      <td>0.0</td>\n",
       "      <td>0.0</td>\n",
       "      <td>0.0</td>\n",
       "      <td>0.0</td>\n",
       "      <td>0.0</td>\n",
       "      <td>0.0</td>\n",
       "      <td>0.0</td>\n",
       "      <td>0.0</td>\n",
       "      <td>0.0</td>\n",
       "      <td>...</td>\n",
       "      <td>0.0</td>\n",
       "      <td>0.0</td>\n",
       "      <td>0.0</td>\n",
       "      <td>0.0</td>\n",
       "      <td>0.0</td>\n",
       "      <td>0.0</td>\n",
       "      <td>0.0</td>\n",
       "      <td>0.0</td>\n",
       "      <td>0.0</td>\n",
       "      <td>0.0</td>\n",
       "    </tr>\n",
       "  </tbody>\n",
       "</table>\n",
       "<p>5 rows × 237 columns</p>\n",
       "</div>"
      ],
      "text/plain": [
       "movieId  1       6       17      30      31      36      47      50      \\\n",
       "userId                                                                    \n",
       "3472      0.000     0.0     0.0     0.0     0.0     0.0     0.0     0.0   \n",
       "4254      0.000     0.0     0.0     0.0     0.0     0.0     0.0     0.0   \n",
       "4458      0.000     0.0     0.0     0.0     0.0     0.0     0.0     0.0   \n",
       "5016      0.000     0.0     0.0     0.0     0.0     0.0     0.0     0.0   \n",
       "5335      3.892     0.0     0.0     0.0     0.0     0.0     0.0     0.0   \n",
       "\n",
       "movieId  61      62      ...  104841  109487  114180  132952  136556  139385  \\\n",
       "userId                   ...                                                   \n",
       "3472        0.0     0.0  ...     0.0     0.0     0.0     0.0     0.0     0.0   \n",
       "4254        0.0     0.0  ...     0.0     0.0     0.0     0.0     0.0     0.0   \n",
       "4458        0.0     0.0  ...     0.0     0.0     0.0     0.0     0.0     0.0   \n",
       "5016        0.0     0.0  ...     0.0     0.0     0.0     0.0     0.0     0.0   \n",
       "5335        0.0     0.0  ...     0.0     0.0     0.0     0.0     0.0     0.0   \n",
       "\n",
       "movieId  142115  144580  165551  201747  \n",
       "userId                                   \n",
       "3472        0.0     0.0     0.0     0.0  \n",
       "4254        0.0     0.0     0.0     0.0  \n",
       "4458        0.0     0.0     0.0     0.0  \n",
       "5016        0.0     0.0     0.0     0.0  \n",
       "5335        0.0     0.0     0.0     0.0  \n",
       "\n",
       "[5 rows x 237 columns]"
      ]
     },
     "execution_count": 10,
     "metadata": {},
     "output_type": "execute_result"
    }
   ],
   "source": [
    "cf_model = preds.pivot_table(index='userId', columns='movieId', values='cf_predictions').fillna(0)\n",
    "cf_model.head()"
   ]
  },
  {
   "cell_type": "code",
   "execution_count": 11,
   "metadata": {},
   "outputs": [
    {
     "data": {
      "text/html": [
       "<div>\n",
       "<style scoped>\n",
       "    .dataframe tbody tr th:only-of-type {\n",
       "        vertical-align: middle;\n",
       "    }\n",
       "\n",
       "    .dataframe tbody tr th {\n",
       "        vertical-align: top;\n",
       "    }\n",
       "\n",
       "    .dataframe thead th {\n",
       "        text-align: right;\n",
       "    }\n",
       "</style>\n",
       "<table border=\"1\" class=\"dataframe\">\n",
       "  <thead>\n",
       "    <tr style=\"text-align: right;\">\n",
       "      <th></th>\n",
       "      <th>actual</th>\n",
       "    </tr>\n",
       "    <tr>\n",
       "      <th>userId</th>\n",
       "      <th></th>\n",
       "    </tr>\n",
       "  </thead>\n",
       "  <tbody>\n",
       "    <tr>\n",
       "      <th>3472</th>\n",
       "      <td>[4011]</td>\n",
       "    </tr>\n",
       "    <tr>\n",
       "      <th>4254</th>\n",
       "      <td>[349]</td>\n",
       "    </tr>\n",
       "    <tr>\n",
       "      <th>4458</th>\n",
       "      <td>[509]</td>\n",
       "    </tr>\n",
       "    <tr>\n",
       "      <th>5016</th>\n",
       "      <td>[54775]</td>\n",
       "    </tr>\n",
       "    <tr>\n",
       "      <th>5335</th>\n",
       "      <td>[1]</td>\n",
       "    </tr>\n",
       "  </tbody>\n",
       "</table>\n",
       "</div>"
      ],
      "text/plain": [
       "         actual\n",
       "userId         \n",
       "3472     [4011]\n",
       "4254      [349]\n",
       "4458      [509]\n",
       "5016    [54775]\n",
       "5335        [1]"
      ]
     },
     "execution_count": 11,
     "metadata": {},
     "output_type": "execute_result"
    }
   ],
   "source": [
    "test = preds.copy().groupby('userId', as_index=False)['movieId'].agg({'actual': (lambda x: list(set(x)))})\n",
    "test = test.set_index(\"userId\")\n",
    "test.head()"
   ]
  },
  {
   "cell_type": "markdown",
   "metadata": {},
   "source": [
    "# k-NN recommendations"
   ]
  },
  {
   "cell_type": "code",
   "execution_count": 12,
   "metadata": {},
   "outputs": [],
   "source": [
    "def get_users_predictions(user_id, n, model):\n",
    "    recommended_items = pd.DataFrame(model.loc[user_id])\n",
    "    recommended_items.columns = [\"predicted_rating\"]\n",
    "    recommended_items = recommended_items.sort_values('predicted_rating', ascending=False)    \n",
    "    recommended_items = recommended_items.head(n)\n",
    "    return recommended_items.index.tolist()"
   ]
  },
  {
   "cell_type": "code",
   "execution_count": 13,
   "metadata": {},
   "outputs": [
    {
     "name": "stderr",
     "output_type": "stream",
     "text": [
      "k-NN recommendations: 100%|██████████| 249/249 [00:00<00:00, 734.39it/s]\n"
     ]
    },
    {
     "data": {
      "text/html": [
       "<div>\n",
       "<style scoped>\n",
       "    .dataframe tbody tr th:only-of-type {\n",
       "        vertical-align: middle;\n",
       "    }\n",
       "\n",
       "    .dataframe tbody tr th {\n",
       "        vertical-align: top;\n",
       "    }\n",
       "\n",
       "    .dataframe thead th {\n",
       "        text-align: right;\n",
       "    }\n",
       "</style>\n",
       "<table border=\"1\" class=\"dataframe\">\n",
       "  <thead>\n",
       "    <tr style=\"text-align: right;\">\n",
       "      <th></th>\n",
       "      <th>actual</th>\n",
       "      <th>cf_predictions</th>\n",
       "    </tr>\n",
       "    <tr>\n",
       "      <th>userId</th>\n",
       "      <th></th>\n",
       "      <th></th>\n",
       "    </tr>\n",
       "  </thead>\n",
       "  <tbody>\n",
       "    <tr>\n",
       "      <th>3472</th>\n",
       "      <td>[4011]</td>\n",
       "      <td>[4011, 1, 4027, 4262, 4292, 4809, 4901, 4993, ...</td>\n",
       "    </tr>\n",
       "    <tr>\n",
       "      <th>4254</th>\n",
       "      <td>[349]</td>\n",
       "      <td>[349, 1, 4027, 4262, 4292, 4809, 4901, 4993, 5...</td>\n",
       "    </tr>\n",
       "    <tr>\n",
       "      <th>4458</th>\n",
       "      <td>[509]</td>\n",
       "      <td>[509, 8361, 4103, 4262, 4292, 4809, 4901, 4993...</td>\n",
       "    </tr>\n",
       "    <tr>\n",
       "      <th>5016</th>\n",
       "      <td>[54775]</td>\n",
       "      <td>[54775, 1, 5481, 4262, 4292, 4809, 4901, 4993,...</td>\n",
       "    </tr>\n",
       "    <tr>\n",
       "      <th>5335</th>\n",
       "      <td>[1]</td>\n",
       "      <td>[1, 5574, 4262, 4292, 4809, 4901, 4993, 5064, ...</td>\n",
       "    </tr>\n",
       "  </tbody>\n",
       "</table>\n",
       "</div>"
      ],
      "text/plain": [
       "         actual                                     cf_predictions\n",
       "userId                                                            \n",
       "3472     [4011]  [4011, 1, 4027, 4262, 4292, 4809, 4901, 4993, ...\n",
       "4254      [349]  [349, 1, 4027, 4262, 4292, 4809, 4901, 4993, 5...\n",
       "4458      [509]  [509, 8361, 4103, 4262, 4292, 4809, 4901, 4993...\n",
       "5016    [54775]  [54775, 1, 5481, 4262, 4292, 4809, 4901, 4993,...\n",
       "5335        [1]  [1, 5574, 4262, 4292, 4809, 4901, 4993, 5064, ..."
      ]
     },
     "execution_count": 13,
     "metadata": {},
     "output_type": "execute_result"
    }
   ],
   "source": [
    "# make recommendations for all members in the test data\n",
    "cf_recs = [] = []\n",
    "for user in tqdm(test.index, desc='k-NN recommendations', total=len(test.index)):\n",
    "    cf_predictions = get_users_predictions(user, 10, cf_model)\n",
    "    cf_recs.append(cf_predictions)\n",
    "        \n",
    "test['cf_predictions'] = cf_recs\n",
    "test.head()"
   ]
  },
  {
   "cell_type": "markdown",
   "metadata": {},
   "source": [
    "# Popularity-based recommendations"
   ]
  },
  {
   "cell_type": "code",
   "execution_count": 14,
   "metadata": {},
   "outputs": [
    {
     "name": "stderr",
     "output_type": "stream",
     "text": [
      "Popularity-based recommendations: 100%|██████████| 249/249 [00:00<00:00, 607905.53it/s]\n"
     ]
    },
    {
     "data": {
      "text/html": [
       "<div>\n",
       "<style scoped>\n",
       "    .dataframe tbody tr th:only-of-type {\n",
       "        vertical-align: middle;\n",
       "    }\n",
       "\n",
       "    .dataframe tbody tr th {\n",
       "        vertical-align: top;\n",
       "    }\n",
       "\n",
       "    .dataframe thead th {\n",
       "        text-align: right;\n",
       "    }\n",
       "</style>\n",
       "<table border=\"1\" class=\"dataframe\">\n",
       "  <thead>\n",
       "    <tr style=\"text-align: right;\">\n",
       "      <th></th>\n",
       "      <th>actual</th>\n",
       "      <th>cf_predictions</th>\n",
       "      <th>pop_predictions</th>\n",
       "    </tr>\n",
       "    <tr>\n",
       "      <th>userId</th>\n",
       "      <th></th>\n",
       "      <th></th>\n",
       "      <th></th>\n",
       "    </tr>\n",
       "  </thead>\n",
       "  <tbody>\n",
       "    <tr>\n",
       "      <th>3472</th>\n",
       "      <td>[4011]</td>\n",
       "      <td>[4011, 1, 4027, 4262, 4292, 4809, 4901, 4993, ...</td>\n",
       "      <td>[1197, 593, 6539, 110, 6377, 150, 590, 1073, 1...</td>\n",
       "    </tr>\n",
       "    <tr>\n",
       "      <th>4254</th>\n",
       "      <td>[349]</td>\n",
       "      <td>[349, 1, 4027, 4262, 4292, 4809, 4901, 4993, 5...</td>\n",
       "      <td>[1197, 593, 6539, 110, 6377, 150, 590, 1073, 1...</td>\n",
       "    </tr>\n",
       "    <tr>\n",
       "      <th>4458</th>\n",
       "      <td>[509]</td>\n",
       "      <td>[509, 8361, 4103, 4262, 4292, 4809, 4901, 4993...</td>\n",
       "      <td>[1197, 593, 6539, 110, 6377, 150, 590, 1073, 1...</td>\n",
       "    </tr>\n",
       "    <tr>\n",
       "      <th>5016</th>\n",
       "      <td>[54775]</td>\n",
       "      <td>[54775, 1, 5481, 4262, 4292, 4809, 4901, 4993,...</td>\n",
       "      <td>[1197, 593, 6539, 110, 6377, 150, 590, 1073, 1...</td>\n",
       "    </tr>\n",
       "    <tr>\n",
       "      <th>5335</th>\n",
       "      <td>[1]</td>\n",
       "      <td>[1, 5574, 4262, 4292, 4809, 4901, 4993, 5064, ...</td>\n",
       "      <td>[1197, 593, 6539, 110, 6377, 150, 590, 1073, 1...</td>\n",
       "    </tr>\n",
       "  </tbody>\n",
       "</table>\n",
       "</div>"
      ],
      "text/plain": [
       "         actual                                     cf_predictions  \\\n",
       "userId                                                               \n",
       "3472     [4011]  [4011, 1, 4027, 4262, 4292, 4809, 4901, 4993, ...   \n",
       "4254      [349]  [349, 1, 4027, 4262, 4292, 4809, 4901, 4993, 5...   \n",
       "4458      [509]  [509, 8361, 4103, 4262, 4292, 4809, 4901, 4993...   \n",
       "5016    [54775]  [54775, 1, 5481, 4262, 4292, 4809, 4901, 4993,...   \n",
       "5335        [1]  [1, 5574, 4262, 4292, 4809, 4901, 4993, 5064, ...   \n",
       "\n",
       "                                          pop_predictions  \n",
       "userId                                                     \n",
       "3472    [1197, 593, 6539, 110, 6377, 150, 590, 1073, 1...  \n",
       "4254    [1197, 593, 6539, 110, 6377, 150, 590, 1073, 1...  \n",
       "4458    [1197, 593, 6539, 110, 6377, 150, 590, 1073, 1...  \n",
       "5016    [1197, 593, 6539, 110, 6377, 150, 590, 1073, 1...  \n",
       "5335    [1197, 593, 6539, 110, 6377, 150, 590, 1073, 1...  "
      ]
     },
     "execution_count": 14,
     "metadata": {},
     "output_type": "execute_result"
    }
   ],
   "source": [
    "#make recommendations for all members in the test data\n",
    "popularity_recs = ratings.movieId.value_counts().head(10).index.tolist()\n",
    "\n",
    "pop_recs = []\n",
    "for user in tqdm(test.index, desc='Popularity-based recommendations', total=len(test.index)):\n",
    "    pop_predictions = popularity_recs\n",
    "    pop_recs.append(pop_predictions)\n",
    "        \n",
    "test['pop_predictions'] = pop_recs\n",
    "test.head()"
   ]
  },
  {
   "cell_type": "markdown",
   "metadata": {},
   "source": [
    "# Random recommendations"
   ]
  },
  {
   "cell_type": "code",
   "execution_count": 15,
   "metadata": {},
   "outputs": [
    {
     "name": "stderr",
     "output_type": "stream",
     "text": [
      "Random recommendations: 100%|██████████| 249/249 [00:00<00:00, 95604.33it/s]\n"
     ]
    },
    {
     "data": {
      "text/html": [
       "<div>\n",
       "<style scoped>\n",
       "    .dataframe tbody tr th:only-of-type {\n",
       "        vertical-align: middle;\n",
       "    }\n",
       "\n",
       "    .dataframe tbody tr th {\n",
       "        vertical-align: top;\n",
       "    }\n",
       "\n",
       "    .dataframe thead th {\n",
       "        text-align: right;\n",
       "    }\n",
       "</style>\n",
       "<table border=\"1\" class=\"dataframe\">\n",
       "  <thead>\n",
       "    <tr style=\"text-align: right;\">\n",
       "      <th></th>\n",
       "      <th>actual</th>\n",
       "      <th>cf_predictions</th>\n",
       "      <th>pop_predictions</th>\n",
       "      <th>random_predictions</th>\n",
       "    </tr>\n",
       "    <tr>\n",
       "      <th>userId</th>\n",
       "      <th></th>\n",
       "      <th></th>\n",
       "      <th></th>\n",
       "      <th></th>\n",
       "    </tr>\n",
       "  </thead>\n",
       "  <tbody>\n",
       "    <tr>\n",
       "      <th>3472</th>\n",
       "      <td>[4011]</td>\n",
       "      <td>[4011, 1, 4027, 4262, 4292, 4809, 4901, 4993, ...</td>\n",
       "      <td>[1197, 593, 6539, 110, 6377, 150, 590, 1073, 1...</td>\n",
       "      <td>[78088, 164179, 8008, 4886, 551, 3105, 30749, ...</td>\n",
       "    </tr>\n",
       "    <tr>\n",
       "      <th>4254</th>\n",
       "      <td>[349]</td>\n",
       "      <td>[349, 1, 4027, 4262, 4292, 4809, 4901, 4993, 5...</td>\n",
       "      <td>[1197, 593, 6539, 110, 6377, 150, 590, 1073, 1...</td>\n",
       "      <td>[218, 1073, 492, 5240, 4963, 2291, 5219, 8368,...</td>\n",
       "    </tr>\n",
       "    <tr>\n",
       "      <th>4458</th>\n",
       "      <td>[509]</td>\n",
       "      <td>[509, 8361, 4103, 4262, 4292, 4809, 4901, 4993...</td>\n",
       "      <td>[1197, 593, 6539, 110, 6377, 150, 590, 1073, 1...</td>\n",
       "      <td>[65, 3039, 509, 6365, 708, 5017, 46578, 48394,...</td>\n",
       "    </tr>\n",
       "    <tr>\n",
       "      <th>5016</th>\n",
       "      <td>[54775]</td>\n",
       "      <td>[54775, 1, 5481, 4262, 4292, 4809, 4901, 4993,...</td>\n",
       "      <td>[1197, 593, 6539, 110, 6377, 150, 590, 1073, 1...</td>\n",
       "      <td>[144302, 1270, 288, 34150, 904, 2959, 2020, 47...</td>\n",
       "    </tr>\n",
       "    <tr>\n",
       "      <th>5335</th>\n",
       "      <td>[1]</td>\n",
       "      <td>[1, 5574, 4262, 4292, 4809, 4901, 4993, 5064, ...</td>\n",
       "      <td>[1197, 593, 6539, 110, 6377, 150, 590, 1073, 1...</td>\n",
       "      <td>[110, 2042, 54510, 1917, 1333, 2134, 337, 7153...</td>\n",
       "    </tr>\n",
       "  </tbody>\n",
       "</table>\n",
       "</div>"
      ],
      "text/plain": [
       "         actual                                     cf_predictions  \\\n",
       "userId                                                               \n",
       "3472     [4011]  [4011, 1, 4027, 4262, 4292, 4809, 4901, 4993, ...   \n",
       "4254      [349]  [349, 1, 4027, 4262, 4292, 4809, 4901, 4993, 5...   \n",
       "4458      [509]  [509, 8361, 4103, 4262, 4292, 4809, 4901, 4993...   \n",
       "5016    [54775]  [54775, 1, 5481, 4262, 4292, 4809, 4901, 4993,...   \n",
       "5335        [1]  [1, 5574, 4262, 4292, 4809, 4901, 4993, 5064, ...   \n",
       "\n",
       "                                          pop_predictions  \\\n",
       "userId                                                      \n",
       "3472    [1197, 593, 6539, 110, 6377, 150, 590, 1073, 1...   \n",
       "4254    [1197, 593, 6539, 110, 6377, 150, 590, 1073, 1...   \n",
       "4458    [1197, 593, 6539, 110, 6377, 150, 590, 1073, 1...   \n",
       "5016    [1197, 593, 6539, 110, 6377, 150, 590, 1073, 1...   \n",
       "5335    [1197, 593, 6539, 110, 6377, 150, 590, 1073, 1...   \n",
       "\n",
       "                                       random_predictions  \n",
       "userId                                                     \n",
       "3472    [78088, 164179, 8008, 4886, 551, 3105, 30749, ...  \n",
       "4254    [218, 1073, 492, 5240, 4963, 2291, 5219, 8368,...  \n",
       "4458    [65, 3039, 509, 6365, 708, 5017, 46578, 48394,...  \n",
       "5016    [144302, 1270, 288, 34150, 904, 2959, 2020, 47...  \n",
       "5335    [110, 2042, 54510, 1917, 1333, 2134, 337, 7153...  "
      ]
     },
     "execution_count": 15,
     "metadata": {},
     "output_type": "execute_result"
    }
   ],
   "source": [
    "# make recommendations for all members in the test data\n",
    "\n",
    "ran_recs = []\n",
    "movies = ratings.movieId.values.tolist()\n",
    "\n",
    "for user in tqdm(test.index, desc='Random recommendations', total=len(test.index)):\n",
    "    random_predictions = sample(movies, 10)\n",
    "    ran_recs.append(random_predictions)\n",
    "        \n",
    "test['random_predictions'] = ran_recs\n",
    "test.head()"
   ]
  },
  {
   "cell_type": "code",
   "execution_count": null,
   "metadata": {},
   "outputs": [],
   "source": []
  },
  {
   "cell_type": "markdown",
   "metadata": {},
   "source": [
    "# Model Evaluation"
   ]
  },
  {
   "cell_type": "code",
   "execution_count": 16,
   "metadata": {},
   "outputs": [],
   "source": [
    "actual = test.actual.values.tolist()\n",
    "cf_predictions = test.cf_predictions.values.tolist()\n",
    "pop_predictions = test.pop_predictions.values.tolist()\n",
    "random_predictions = test.random_predictions.values.tolist()"
   ]
  },
  {
   "cell_type": "code",
   "execution_count": 17,
   "metadata": {},
   "outputs": [
    {
     "data": {
      "text/plain": [
       "[0.012048192771084338,\n",
       " 0.012048192771084338,\n",
       " 0.012048192771084338,\n",
       " 0.013052208835341365,\n",
       " 0.013855421686746989,\n",
       " 0.013855421686746989,\n",
       " 0.015576592082616178,\n",
       " 0.01607860011474469,\n",
       " 0.01607860011474469,\n",
       " 0.01607860011474469]"
      ]
     },
     "execution_count": 17,
     "metadata": {},
     "output_type": "execute_result"
    }
   ],
   "source": [
    "pop_mark = []\n",
    "for K in np.arange(1, 11):\n",
    "    pop_mark.extend([mark(actual, pop_predictions, k=K)])\n",
    "pop_mark"
   ]
  },
  {
   "cell_type": "code",
   "execution_count": 18,
   "metadata": {},
   "outputs": [
    {
     "data": {
      "text/plain": [
       "[0.0,\n",
       " 0.0,\n",
       " 0.0013386880856760374,\n",
       " 0.0013386880856760374,\n",
       " 0.00214190093708166,\n",
       " 0.0034805890227576977,\n",
       " 0.0034805890227576977,\n",
       " 0.0034805890227576977,\n",
       " 0.00392681838464971,\n",
       " 0.00392681838464971]"
      ]
     },
     "execution_count": 18,
     "metadata": {},
     "output_type": "execute_result"
    }
   ],
   "source": [
    "random_mark = []\n",
    "for K in np.arange(1, 11):\n",
    "    random_mark.extend([mark(actual, random_predictions, k=K)])\n",
    "random_mark"
   ]
  },
  {
   "cell_type": "code",
   "execution_count": 19,
   "metadata": {},
   "outputs": [
    {
     "data": {
      "text/plain": [
       "[0.9979919678714859, 1.0, 1.0, 1.0, 1.0, 1.0, 1.0, 1.0, 1.0, 1.0]"
      ]
     },
     "execution_count": 19,
     "metadata": {},
     "output_type": "execute_result"
    }
   ],
   "source": [
    "cf_mark = []\n",
    "for K in np.arange(1, 11):\n",
    "    cf_mark.extend([mark(actual, cf_predictions, k=K)])\n",
    "cf_mark"
   ]
  },
  {
   "cell_type": "code",
   "execution_count": 20,
   "metadata": {},
   "outputs": [
    {
     "data": {
      "text/html": [
       "<div>\n",
       "<style scoped>\n",
       "    .dataframe tbody tr th:only-of-type {\n",
       "        vertical-align: middle;\n",
       "    }\n",
       "\n",
       "    .dataframe tbody tr th {\n",
       "        vertical-align: top;\n",
       "    }\n",
       "\n",
       "    .dataframe thead th {\n",
       "        text-align: right;\n",
       "    }\n",
       "</style>\n",
       "<table border=\"1\" class=\"dataframe\">\n",
       "  <thead>\n",
       "    <tr style=\"text-align: right;\">\n",
       "      <th></th>\n",
       "      <th>actual</th>\n",
       "      <th>cf_predictions</th>\n",
       "      <th>pop_predictions</th>\n",
       "      <th>random_predictions</th>\n",
       "    </tr>\n",
       "    <tr>\n",
       "      <th>userId</th>\n",
       "      <th></th>\n",
       "      <th></th>\n",
       "      <th></th>\n",
       "      <th></th>\n",
       "    </tr>\n",
       "  </thead>\n",
       "  <tbody>\n",
       "    <tr>\n",
       "      <th>3472</th>\n",
       "      <td>[4011]</td>\n",
       "      <td>[4011, 1, 4027, 4262, 4292, 4809, 4901, 4993, ...</td>\n",
       "      <td>[1197, 593, 6539, 110, 6377, 150, 590, 1073, 1...</td>\n",
       "      <td>[78088, 164179, 8008, 4886, 551, 3105, 30749, ...</td>\n",
       "    </tr>\n",
       "    <tr>\n",
       "      <th>4254</th>\n",
       "      <td>[349]</td>\n",
       "      <td>[349, 1, 4027, 4262, 4292, 4809, 4901, 4993, 5...</td>\n",
       "      <td>[1197, 593, 6539, 110, 6377, 150, 590, 1073, 1...</td>\n",
       "      <td>[218, 1073, 492, 5240, 4963, 2291, 5219, 8368,...</td>\n",
       "    </tr>\n",
       "    <tr>\n",
       "      <th>4458</th>\n",
       "      <td>[509]</td>\n",
       "      <td>[509, 8361, 4103, 4262, 4292, 4809, 4901, 4993...</td>\n",
       "      <td>[1197, 593, 6539, 110, 6377, 150, 590, 1073, 1...</td>\n",
       "      <td>[65, 3039, 509, 6365, 708, 5017, 46578, 48394,...</td>\n",
       "    </tr>\n",
       "    <tr>\n",
       "      <th>5016</th>\n",
       "      <td>[54775]</td>\n",
       "      <td>[54775, 1, 5481, 4262, 4292, 4809, 4901, 4993,...</td>\n",
       "      <td>[1197, 593, 6539, 110, 6377, 150, 590, 1073, 1...</td>\n",
       "      <td>[144302, 1270, 288, 34150, 904, 2959, 2020, 47...</td>\n",
       "    </tr>\n",
       "    <tr>\n",
       "      <th>5335</th>\n",
       "      <td>[1]</td>\n",
       "      <td>[1, 5574, 4262, 4292, 4809, 4901, 4993, 5064, ...</td>\n",
       "      <td>[1197, 593, 6539, 110, 6377, 150, 590, 1073, 1...</td>\n",
       "      <td>[110, 2042, 54510, 1917, 1333, 2134, 337, 7153...</td>\n",
       "    </tr>\n",
       "  </tbody>\n",
       "</table>\n",
       "</div>"
      ],
      "text/plain": [
       "         actual                                     cf_predictions  \\\n",
       "userId                                                               \n",
       "3472     [4011]  [4011, 1, 4027, 4262, 4292, 4809, 4901, 4993, ...   \n",
       "4254      [349]  [349, 1, 4027, 4262, 4292, 4809, 4901, 4993, 5...   \n",
       "4458      [509]  [509, 8361, 4103, 4262, 4292, 4809, 4901, 4993...   \n",
       "5016    [54775]  [54775, 1, 5481, 4262, 4292, 4809, 4901, 4993,...   \n",
       "5335        [1]  [1, 5574, 4262, 4292, 4809, 4901, 4993, 5064, ...   \n",
       "\n",
       "                                          pop_predictions  \\\n",
       "userId                                                      \n",
       "3472    [1197, 593, 6539, 110, 6377, 150, 590, 1073, 1...   \n",
       "4254    [1197, 593, 6539, 110, 6377, 150, 590, 1073, 1...   \n",
       "4458    [1197, 593, 6539, 110, 6377, 150, 590, 1073, 1...   \n",
       "5016    [1197, 593, 6539, 110, 6377, 150, 590, 1073, 1...   \n",
       "5335    [1197, 593, 6539, 110, 6377, 150, 590, 1073, 1...   \n",
       "\n",
       "                                       random_predictions  \n",
       "userId                                                     \n",
       "3472    [78088, 164179, 8008, 4886, 551, 3105, 30749, ...  \n",
       "4254    [218, 1073, 492, 5240, 4963, 2291, 5219, 8368,...  \n",
       "4458    [65, 3039, 509, 6365, 708, 5017, 46578, 48394,...  \n",
       "5016    [144302, 1270, 288, 34150, 904, 2959, 2020, 47...  \n",
       "5335    [110, 2042, 54510, 1917, 1333, 2134, 337, 7153...  "
      ]
     },
     "execution_count": 20,
     "metadata": {},
     "output_type": "execute_result"
    }
   ],
   "source": [
    "test.head()"
   ]
  },
  {
   "cell_type": "code",
   "execution_count": 21,
   "metadata": {
    "collapsed": false,
    "jupyter": {
     "outputs_hidden": false
    },
    "pycharm": {
     "name": "#%%\n"
    }
   },
   "outputs": [
    {
     "name": "stdout",
     "output_type": "stream",
     "text": [
      "MSE:  0.492384\n",
      "RMSE:  0.7017007909358518\n"
     ]
    }
   ],
   "source": [
    "print(\"MSE: \", mse(preds.actual, preds.cf_predictions))\n",
    "print(\"RMSE: \", rmse(preds.actual, preds.cf_predictions))"
   ]
  },
  {
   "cell_type": "code",
   "execution_count": 22,
   "metadata": {},
   "outputs": [
    {
     "data": {
      "image/png": "[encoded data removed]",
      "text/plain": [
       "<Figure size 1080x504 with 1 Axes>"
      ]
     },
     "metadata": {
      "needs_background": "light"
     },
     "output_type": "display_data"
    }
   ],
   "source": [
    "mark_scores = [random_mark, pop_mark, cf_mark]\n",
    "index = range(1,11)\n",
    "names = ['Random Recommender', 'Popularity Recommender', 'Collaborative Filter']\n",
    "\n",
    "fig = plt.figure(figsize=(15, 7))\n",
    "mark_plot(mark_scores, model_names=names, k_range=index)"
   ]
  },
  {
   "cell_type": "markdown",
   "metadata": {},
   "source": [
    "# Saving predictions & model"
   ]
  },
  {
   "cell_type": "code",
   "execution_count": 23,
   "metadata": {},
   "outputs": [
    {
     "name": "stdout",
     "output_type": "stream",
     "text": [
      "The dump has been saved as file ../../artifacts/k-nn.pkl\n"
     ]
    }
   ],
   "source": [
    "dumping_path = join(_HERE, '..', '..', 'artifacts', 'k-nn.pkl')\n",
    "dump(dumping_path, algo=algo, verbose=1)"
   ]
  },
  {
   "cell_type": "markdown",
   "metadata": {},
   "source": [
    "# Inference stage"
   ]
  },
  {
   "cell_type": "code",
   "execution_count": 24,
   "metadata": {},
   "outputs": [
    {
     "name": "stdout",
     "output_type": "stream",
     "text": [
      "Computing the cosine similarity matrix...\n",
      "Done computing similarity matrix.\n"
     ]
    },
    {
     "data": {
      "text/plain": [
       "['Iron Man (2008)',\n",
       " 'Toy Story (1995)',\n",
       " 'Toy Story 4 (2019)',\n",
       " 'Persian Series #8 (2000)',\n",
       " 'Persian Series #9 (2000)',\n",
       " 'Persian Series #10 (2000)',\n",
       " 'Persian Series #11 (2000)',\n",
       " 'Persian Series #12 (2000)',\n",
       " 'Persian Series #13 (2001)',\n",
       " 'Persian Series #14 (2001)']"
      ]
     },
     "execution_count": 24,
     "metadata": {},
     "output_type": "execute_result"
    }
   ],
   "source": [
    "recommend(['Iron Man', 'Fast and Furious'], 10)"
   ]
  },
  {
   "cell_type": "markdown",
   "metadata": {},
   "source": [
    "# Transform notebook to Python script"
   ]
  },
  {
   "cell_type": "code",
   "execution_count": 25,
   "metadata": {},
   "outputs": [
    {
     "name": "stdout",
     "output_type": "stream",
     "text": [
      "[NbConvertApp] Converting notebook k_nn.ipynb to script\n",
      "[NbConvertApp] Writing 4692 bytes to k_nn.py\n"
     ]
    }
   ],
   "source": [
    "!jupyter nbconvert --to script k_nn.ipynb"
   ]
  },
  {
   "cell_type": "code",
   "execution_count": null,
   "metadata": {},
   "outputs": [],
   "source": []
  },
  {
   "cell_type": "code",
   "execution_count": 26,
   "metadata": {},
   "outputs": [
    {
     "ename": "NameError",
     "evalue": "name 'cosine_similarity' is not defined",
     "output_type": "error",
     "traceback": [
      "\u001b[0;31m---------------------------------------------------------------------------\u001b[0m",
      "\u001b[0;31mNameError\u001b[0m                                 Traceback (most recent call last)",
      "\u001b[0;32m<ipython-input-26-c1b0b8a620b2>\u001b[0m in \u001b[0;36m<module>\u001b[0;34m\u001b[0m\n\u001b[0;32m----> 1\u001b[0;31m \u001b[0mcollab_model\u001b[0m\u001b[0;34m(\u001b[0m\u001b[0malgo\u001b[0m\u001b[0;34m,\u001b[0m \u001b[0;34m[\u001b[0m\u001b[0;34m'Iron Man (1951)'\u001b[0m\u001b[0;34m,\u001b[0m \u001b[0;34m'Toy Story (1995)'\u001b[0m\u001b[0;34m]\u001b[0m\u001b[0;34m,\u001b[0m \u001b[0;36m3\u001b[0m\u001b[0;34m)\u001b[0m\u001b[0;34m\u001b[0m\u001b[0;34m\u001b[0m\u001b[0m\n\u001b[0m",
      "\u001b[0;32m/notebooks/Recommendation-System/src/collaborative_filtering/utils.py\u001b[0m in \u001b[0;36mcollab_model\u001b[0;34m(model, movie_list, top_n)\u001b[0m\n\u001b[1;32m    148\u001b[0m \u001b[0;34m\u001b[0m\u001b[0m\n\u001b[1;32m    149\u001b[0m     \u001b[0;31m# Getting the cosine similarity matrix\u001b[0m\u001b[0;34m\u001b[0m\u001b[0;34m\u001b[0m\u001b[0;34m\u001b[0m\u001b[0m\n\u001b[0;32m--> 150\u001b[0;31m     \u001b[0mcosine_sim\u001b[0m \u001b[0;34m=\u001b[0m \u001b[0mcosine_similarity\u001b[0m\u001b[0;34m(\u001b[0m\u001b[0mnp\u001b[0m\u001b[0;34m.\u001b[0m\u001b[0marray\u001b[0m\u001b[0;34m(\u001b[0m\u001b[0mdf_init_users\u001b[0m\u001b[0;34m)\u001b[0m\u001b[0;34m,\u001b[0m \u001b[0mnp\u001b[0m\u001b[0;34m.\u001b[0m\u001b[0marray\u001b[0m\u001b[0;34m(\u001b[0m\u001b[0mdf_init_users\u001b[0m\u001b[0;34m)\u001b[0m\u001b[0;34m)\u001b[0m\u001b[0;34m\u001b[0m\u001b[0;34m\u001b[0m\u001b[0m\n\u001b[0m\u001b[1;32m    151\u001b[0m     \u001b[0midx_1\u001b[0m \u001b[0;34m=\u001b[0m \u001b[0mindices\u001b[0m\u001b[0;34m[\u001b[0m\u001b[0mindices\u001b[0m \u001b[0;34m==\u001b[0m \u001b[0mmovie_list\u001b[0m\u001b[0;34m[\u001b[0m\u001b[0;36m0\u001b[0m\u001b[0;34m]\u001b[0m\u001b[0;34m]\u001b[0m\u001b[0;34m.\u001b[0m\u001b[0mindex\u001b[0m\u001b[0;34m[\u001b[0m\u001b[0;36m0\u001b[0m\u001b[0;34m]\u001b[0m\u001b[0;34m\u001b[0m\u001b[0;34m\u001b[0m\u001b[0m\n\u001b[1;32m    152\u001b[0m     \u001b[0midx_2\u001b[0m \u001b[0;34m=\u001b[0m \u001b[0mindices\u001b[0m\u001b[0;34m[\u001b[0m\u001b[0mindices\u001b[0m \u001b[0;34m==\u001b[0m \u001b[0mmovie_list\u001b[0m\u001b[0;34m[\u001b[0m\u001b[0;36m1\u001b[0m\u001b[0;34m]\u001b[0m\u001b[0;34m]\u001b[0m\u001b[0;34m.\u001b[0m\u001b[0mindex\u001b[0m\u001b[0;34m[\u001b[0m\u001b[0;36m0\u001b[0m\u001b[0;34m]\u001b[0m\u001b[0;34m\u001b[0m\u001b[0;34m\u001b[0m\u001b[0m\n",
      "\u001b[0;31mNameError\u001b[0m: name 'cosine_similarity' is not defined"
     ]
    }
   ],
   "source": [
    "collab_model(algo, ['Iron Man (1951)', 'Toy Story (1995)'], 3)"
   ]
  },
  {
   "cell_type": "code",
   "execution_count": null,
   "metadata": {},
   "outputs": [],
   "source": []
  },
  {
   "cell_type": "code",
   "execution_count": null,
   "metadata": {},
   "outputs": [],
   "source": []
  }
 ],
 "metadata": {
  "kernelspec": {
   "display_name": "Python 3",
   "language": "python",
   "name": "python3"
  },
  "language_info": {
   "codemirror_mode": {
    "name": "ipython",
    "version": 3
   },
   "file_extension": ".py",
   "mimetype": "text/x-python",
   "name": "python",
   "nbconvert_exporter": "python",
   "pygments_lexer": "ipython3",
   "version": "3.8.5"
  }
 },
 "nbformat": 4,
 "nbformat_minor": 4
}
