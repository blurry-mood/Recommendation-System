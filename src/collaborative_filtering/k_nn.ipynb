{
 "cells": [
  {
   "cell_type": "code",
   "execution_count": 4,
   "metadata": {},
   "outputs": [],
   "source": [
    "from surprise.model_selection import train_test_split\n",
    "from surprise import KNNBasic, accuracy\n",
    "from surprise import Dataset, Reader\n",
    "from surprise.dump import dump\n",
    "\n",
    "from recmetrics import rmse, mse, mark, mark_plot\n",
    "\n",
    "from os.path import join, split\n",
    "from random import sample\n",
    "\n",
    "import pandas as pd\n",
    "import numpy as np\n",
    "import matplotlib.pyplot as plt\n",
    "\n",
    "from tqdm import tqdm"
   ]
  },
  {
   "cell_type": "code",
   "execution_count": 5,
   "metadata": {
    "collapsed": false,
    "jupyter": {
     "outputs_hidden": false
    },
    "pycharm": {
     "name": "#%%\n"
    }
   },
   "outputs": [
    {
     "data": {
      "text/plain": [
       "'../../dataset/movielens/ratings.csv'"
      ]
     },
     "execution_count": 5,
     "metadata": {},
     "output_type": "execute_result"
    }
   ],
   "source": [
    "_HERE = ''\n",
    "dataset_path = join(_HERE, '..', '..', 'dataset', 'movielens', 'ratings.csv')\n",
    "dataset_path"
   ]
  },
  {
   "cell_type": "markdown",
   "metadata": {},
   "source": [
    "# Read dataset"
   ]
  },
  {
   "cell_type": "code",
   "execution_count": 6,
   "metadata": {},
   "outputs": [
    {
     "data": {
      "text/html": [
       "<div>\n",
       "<style scoped>\n",
       "    .dataframe tbody tr th:only-of-type {\n",
       "        vertical-align: middle;\n",
       "    }\n",
       "\n",
       "    .dataframe tbody tr th {\n",
       "        vertical-align: top;\n",
       "    }\n",
       "\n",
       "    .dataframe thead th {\n",
       "        text-align: right;\n",
       "    }\n",
       "</style>\n",
       "<table border=\"1\" class=\"dataframe\">\n",
       "  <thead>\n",
       "    <tr style=\"text-align: right;\">\n",
       "      <th></th>\n",
       "      <th>userId</th>\n",
       "      <th>movieId</th>\n",
       "      <th>rating</th>\n",
       "      <th>timestamp</th>\n",
       "    </tr>\n",
       "  </thead>\n",
       "  <tbody>\n",
       "    <tr>\n",
       "      <th>0</th>\n",
       "      <td>1</td>\n",
       "      <td>296</td>\n",
       "      <td>5.0</td>\n",
       "      <td>1147880044</td>\n",
       "    </tr>\n",
       "    <tr>\n",
       "      <th>1</th>\n",
       "      <td>1</td>\n",
       "      <td>306</td>\n",
       "      <td>3.5</td>\n",
       "      <td>1147868817</td>\n",
       "    </tr>\n",
       "    <tr>\n",
       "      <th>2</th>\n",
       "      <td>1</td>\n",
       "      <td>307</td>\n",
       "      <td>5.0</td>\n",
       "      <td>1147868828</td>\n",
       "    </tr>\n",
       "    <tr>\n",
       "      <th>3</th>\n",
       "      <td>1</td>\n",
       "      <td>665</td>\n",
       "      <td>5.0</td>\n",
       "      <td>1147878820</td>\n",
       "    </tr>\n",
       "    <tr>\n",
       "      <th>4</th>\n",
       "      <td>1</td>\n",
       "      <td>899</td>\n",
       "      <td>3.5</td>\n",
       "      <td>1147868510</td>\n",
       "    </tr>\n",
       "  </tbody>\n",
       "</table>\n",
       "</div>"
      ],
      "text/plain": [
       "   userId  movieId  rating   timestamp\n",
       "0       1      296     5.0  1147880044\n",
       "1       1      306     3.5  1147868817\n",
       "2       1      307     5.0  1147868828\n",
       "3       1      665     5.0  1147878820\n",
       "4       1      899     3.5  1147868510"
      ]
     },
     "execution_count": 6,
     "metadata": {},
     "output_type": "execute_result"
    }
   ],
   "source": [
    "ratings = pd.read_csv(dataset_path)\n",
    "ratings = ratings.query('rating >=3')\n",
    "ratings.reset_index(drop=True, inplace=True)\n",
    "\n",
    "ratings.head()"
   ]
  },
  {
   "cell_type": "markdown",
   "metadata": {},
   "source": [
    "# k-NN Model training"
   ]
  },
  {
   "cell_type": "code",
   "execution_count": 7,
   "metadata": {
    "collapsed": false,
    "jupyter": {
     "outputs_hidden": false
    },
    "pycharm": {
     "name": "#%%\n"
    }
   },
   "outputs": [],
   "source": [
    "reader = Reader(line_format='user item rating timestamp', sep=',' , rating_scale=(0.5, 5), skip_lines=162541*150)\n",
    "data = Dataset.load_from_file(dataset_path, reader=reader)\n",
    "trainset, testset = train_test_split(data, test_size=.25)"
   ]
  },
  {
   "cell_type": "code",
   "execution_count": 8,
   "metadata": {
    "collapsed": false,
    "jupyter": {
     "outputs_hidden": false
    },
    "pycharm": {
     "name": "#%%\n"
    }
   },
   "outputs": [],
   "source": [
    "sim_options = {'name': 'cosine',\n",
    "               'user_based': False  # compute  similarities between items\n",
    "               }\n",
    "algo = KNNBasic(k=2, sim_options=sim_options, verbose=True)"
   ]
  },
  {
   "cell_type": "code",
   "execution_count": 9,
   "metadata": {
    "collapsed": false,
    "jupyter": {
     "outputs_hidden": false
    },
    "pycharm": {
     "name": "#%%\n"
    }
   },
   "outputs": [
    {
     "name": "stdout",
     "output_type": "stream",
     "text": [
      "Computing the cosine similarity matrix...\n",
      "Done computing similarity matrix.\n"
     ]
    },
    {
     "data": {
      "text/plain": [
       "<surprise.prediction_algorithms.knns.KNNBasic at 0x7f85802f5850>"
      ]
     },
     "execution_count": 9,
     "metadata": {},
     "output_type": "execute_result"
    }
   ],
   "source": [
    "algo.fit(trainset)"
   ]
  },
  {
   "cell_type": "code",
   "execution_count": 10,
   "metadata": {
    "collapsed": false,
    "jupyter": {
     "outputs_hidden": false
    },
    "pycharm": {
     "name": "#%%\n"
    }
   },
   "outputs": [],
   "source": [
    "preds = algo.test(testset, verbose=False)"
   ]
  },
  {
   "cell_type": "code",
   "execution_count": 11,
   "metadata": {
    "collapsed": false,
    "jupyter": {
     "outputs_hidden": false
    },
    "pycharm": {
     "name": "#%%\n"
    }
   },
   "outputs": [
    {
     "data": {
      "text/html": [
       "<div>\n",
       "<style scoped>\n",
       "    .dataframe tbody tr th:only-of-type {\n",
       "        vertical-align: middle;\n",
       "    }\n",
       "\n",
       "    .dataframe tbody tr th {\n",
       "        vertical-align: top;\n",
       "    }\n",
       "\n",
       "    .dataframe thead th {\n",
       "        text-align: right;\n",
       "    }\n",
       "</style>\n",
       "<table border=\"1\" class=\"dataframe\">\n",
       "  <thead>\n",
       "    <tr style=\"text-align: right;\">\n",
       "      <th></th>\n",
       "      <th>userId</th>\n",
       "      <th>movieId</th>\n",
       "      <th>actual</th>\n",
       "      <th>cf_predictions</th>\n",
       "    </tr>\n",
       "  </thead>\n",
       "  <tbody>\n",
       "    <tr>\n",
       "      <th>0</th>\n",
       "      <td>158753</td>\n",
       "      <td>3535</td>\n",
       "      <td>4.0</td>\n",
       "      <td>2.5</td>\n",
       "    </tr>\n",
       "    <tr>\n",
       "      <th>1</th>\n",
       "      <td>162052</td>\n",
       "      <td>96821</td>\n",
       "      <td>4.0</td>\n",
       "      <td>4.5</td>\n",
       "    </tr>\n",
       "    <tr>\n",
       "      <th>2</th>\n",
       "      <td>160922</td>\n",
       "      <td>4091</td>\n",
       "      <td>3.5</td>\n",
       "      <td>3.5</td>\n",
       "    </tr>\n",
       "    <tr>\n",
       "      <th>3</th>\n",
       "      <td>159504</td>\n",
       "      <td>3147</td>\n",
       "      <td>3.5</td>\n",
       "      <td>4.0</td>\n",
       "    </tr>\n",
       "    <tr>\n",
       "      <th>4</th>\n",
       "      <td>162416</td>\n",
       "      <td>1190</td>\n",
       "      <td>2.5</td>\n",
       "      <td>2.0</td>\n",
       "    </tr>\n",
       "  </tbody>\n",
       "</table>\n",
       "</div>"
      ],
      "text/plain": [
       "   userId movieId  actual  cf_predictions\n",
       "0  158753    3535     4.0             2.5\n",
       "1  162052   96821     4.0             4.5\n",
       "2  160922    4091     3.5             3.5\n",
       "3  159504    3147     3.5             4.0\n",
       "4  162416    1190     2.5             2.0"
      ]
     },
     "execution_count": 11,
     "metadata": {},
     "output_type": "execute_result"
    }
   ],
   "source": [
    "preds = pd.DataFrame(preds)\n",
    "preds.drop(\"details\", inplace=True, axis=1)\n",
    "preds.columns = ['userId', 'movieId', 'actual', 'cf_predictions']\n",
    "preds.head()"
   ]
  },
  {
   "cell_type": "markdown",
   "metadata": {
    "jupyter": {
     "outputs_hidden": false
    },
    "pycharm": {
     "name": "#%%\n"
    }
   },
   "source": [
    "# Recommendations"
   ]
  },
  {
   "cell_type": "code",
   "execution_count": 12,
   "metadata": {},
   "outputs": [
    {
     "data": {
      "text/html": [
       "<div>\n",
       "<style scoped>\n",
       "    .dataframe tbody tr th:only-of-type {\n",
       "        vertical-align: middle;\n",
       "    }\n",
       "\n",
       "    .dataframe tbody tr th {\n",
       "        vertical-align: top;\n",
       "    }\n",
       "\n",
       "    .dataframe thead th {\n",
       "        text-align: right;\n",
       "    }\n",
       "</style>\n",
       "<table border=\"1\" class=\"dataframe\">\n",
       "  <thead>\n",
       "    <tr style=\"text-align: right;\">\n",
       "      <th>movieId</th>\n",
       "      <th>1</th>\n",
       "      <th>10</th>\n",
       "      <th>100</th>\n",
       "      <th>100034</th>\n",
       "      <th>100044</th>\n",
       "      <th>100060</th>\n",
       "      <th>100083</th>\n",
       "      <th>100106</th>\n",
       "      <th>100108</th>\n",
       "      <th>100150</th>\n",
       "      <th>...</th>\n",
       "      <th>998</th>\n",
       "      <th>999</th>\n",
       "      <th>99910</th>\n",
       "      <th>99912</th>\n",
       "      <th>99915</th>\n",
       "      <th>99917</th>\n",
       "      <th>99957</th>\n",
       "      <th>99968</th>\n",
       "      <th>99992</th>\n",
       "      <th>99996</th>\n",
       "    </tr>\n",
       "    <tr>\n",
       "      <th>userId</th>\n",
       "      <th></th>\n",
       "      <th></th>\n",
       "      <th></th>\n",
       "      <th></th>\n",
       "      <th></th>\n",
       "      <th></th>\n",
       "      <th></th>\n",
       "      <th></th>\n",
       "      <th></th>\n",
       "      <th></th>\n",
       "      <th></th>\n",
       "      <th></th>\n",
       "      <th></th>\n",
       "      <th></th>\n",
       "      <th></th>\n",
       "      <th></th>\n",
       "      <th></th>\n",
       "      <th></th>\n",
       "      <th></th>\n",
       "      <th></th>\n",
       "      <th></th>\n",
       "    </tr>\n",
       "  </thead>\n",
       "  <tbody>\n",
       "    <tr>\n",
       "      <th>158413</th>\n",
       "      <td>0.0</td>\n",
       "      <td>0.0</td>\n",
       "      <td>0.0</td>\n",
       "      <td>0.0</td>\n",
       "      <td>0.0</td>\n",
       "      <td>0.0</td>\n",
       "      <td>0.0</td>\n",
       "      <td>0.0</td>\n",
       "      <td>0.0</td>\n",
       "      <td>0.0</td>\n",
       "      <td>...</td>\n",
       "      <td>0.0</td>\n",
       "      <td>0.0</td>\n",
       "      <td>0.0</td>\n",
       "      <td>0.0</td>\n",
       "      <td>0.0</td>\n",
       "      <td>0.0</td>\n",
       "      <td>0.0</td>\n",
       "      <td>0.0</td>\n",
       "      <td>0.0</td>\n",
       "      <td>0.0</td>\n",
       "    </tr>\n",
       "    <tr>\n",
       "      <th>158414</th>\n",
       "      <td>0.0</td>\n",
       "      <td>0.0</td>\n",
       "      <td>0.0</td>\n",
       "      <td>0.0</td>\n",
       "      <td>0.0</td>\n",
       "      <td>0.0</td>\n",
       "      <td>0.0</td>\n",
       "      <td>0.0</td>\n",
       "      <td>0.0</td>\n",
       "      <td>0.0</td>\n",
       "      <td>...</td>\n",
       "      <td>0.0</td>\n",
       "      <td>0.0</td>\n",
       "      <td>0.0</td>\n",
       "      <td>0.0</td>\n",
       "      <td>0.0</td>\n",
       "      <td>0.0</td>\n",
       "      <td>0.0</td>\n",
       "      <td>0.0</td>\n",
       "      <td>0.0</td>\n",
       "      <td>0.0</td>\n",
       "    </tr>\n",
       "    <tr>\n",
       "      <th>158415</th>\n",
       "      <td>0.0</td>\n",
       "      <td>0.0</td>\n",
       "      <td>0.0</td>\n",
       "      <td>0.0</td>\n",
       "      <td>0.0</td>\n",
       "      <td>0.0</td>\n",
       "      <td>0.0</td>\n",
       "      <td>0.0</td>\n",
       "      <td>0.0</td>\n",
       "      <td>0.0</td>\n",
       "      <td>...</td>\n",
       "      <td>0.0</td>\n",
       "      <td>0.0</td>\n",
       "      <td>0.0</td>\n",
       "      <td>0.0</td>\n",
       "      <td>0.0</td>\n",
       "      <td>0.0</td>\n",
       "      <td>0.0</td>\n",
       "      <td>0.0</td>\n",
       "      <td>0.0</td>\n",
       "      <td>0.0</td>\n",
       "    </tr>\n",
       "    <tr>\n",
       "      <th>158416</th>\n",
       "      <td>0.0</td>\n",
       "      <td>0.0</td>\n",
       "      <td>0.0</td>\n",
       "      <td>0.0</td>\n",
       "      <td>0.0</td>\n",
       "      <td>0.0</td>\n",
       "      <td>0.0</td>\n",
       "      <td>0.0</td>\n",
       "      <td>0.0</td>\n",
       "      <td>0.0</td>\n",
       "      <td>...</td>\n",
       "      <td>0.0</td>\n",
       "      <td>0.0</td>\n",
       "      <td>0.0</td>\n",
       "      <td>0.0</td>\n",
       "      <td>0.0</td>\n",
       "      <td>0.0</td>\n",
       "      <td>0.0</td>\n",
       "      <td>0.0</td>\n",
       "      <td>0.0</td>\n",
       "      <td>0.0</td>\n",
       "    </tr>\n",
       "    <tr>\n",
       "      <th>158417</th>\n",
       "      <td>0.0</td>\n",
       "      <td>2.5</td>\n",
       "      <td>0.0</td>\n",
       "      <td>0.0</td>\n",
       "      <td>0.0</td>\n",
       "      <td>0.0</td>\n",
       "      <td>0.0</td>\n",
       "      <td>0.0</td>\n",
       "      <td>0.0</td>\n",
       "      <td>0.0</td>\n",
       "      <td>...</td>\n",
       "      <td>0.0</td>\n",
       "      <td>0.0</td>\n",
       "      <td>0.0</td>\n",
       "      <td>0.0</td>\n",
       "      <td>0.0</td>\n",
       "      <td>0.0</td>\n",
       "      <td>0.0</td>\n",
       "      <td>0.0</td>\n",
       "      <td>0.0</td>\n",
       "      <td>0.0</td>\n",
       "    </tr>\n",
       "  </tbody>\n",
       "</table>\n",
       "<p>5 rows × 11485 columns</p>\n",
       "</div>"
      ],
      "text/plain": [
       "movieId    1   10  100  100034  100044  100060  100083  100106  100108  \\\n",
       "userId                                                                   \n",
       "158413   0.0  0.0  0.0     0.0     0.0     0.0     0.0     0.0     0.0   \n",
       "158414   0.0  0.0  0.0     0.0     0.0     0.0     0.0     0.0     0.0   \n",
       "158415   0.0  0.0  0.0     0.0     0.0     0.0     0.0     0.0     0.0   \n",
       "158416   0.0  0.0  0.0     0.0     0.0     0.0     0.0     0.0     0.0   \n",
       "158417   0.0  2.5  0.0     0.0     0.0     0.0     0.0     0.0     0.0   \n",
       "\n",
       "movieId  100150  ...  998  999  99910  99912  99915  99917  99957  99968  \\\n",
       "userId           ...                                                       \n",
       "158413      0.0  ...  0.0  0.0    0.0    0.0    0.0    0.0    0.0    0.0   \n",
       "158414      0.0  ...  0.0  0.0    0.0    0.0    0.0    0.0    0.0    0.0   \n",
       "158415      0.0  ...  0.0  0.0    0.0    0.0    0.0    0.0    0.0    0.0   \n",
       "158416      0.0  ...  0.0  0.0    0.0    0.0    0.0    0.0    0.0    0.0   \n",
       "158417      0.0  ...  0.0  0.0    0.0    0.0    0.0    0.0    0.0    0.0   \n",
       "\n",
       "movieId  99992  99996  \n",
       "userId                 \n",
       "158413     0.0    0.0  \n",
       "158414     0.0    0.0  \n",
       "158415     0.0    0.0  \n",
       "158416     0.0    0.0  \n",
       "158417     0.0    0.0  \n",
       "\n",
       "[5 rows x 11485 columns]"
      ]
     },
     "execution_count": 12,
     "metadata": {},
     "output_type": "execute_result"
    }
   ],
   "source": [
    "cf_model = preds.pivot_table(index='userId', columns='movieId', values='cf_predictions').fillna(0)\n",
    "cf_model.head()"
   ]
  },
  {
   "cell_type": "code",
   "execution_count": 13,
   "metadata": {},
   "outputs": [
    {
     "data": {
      "text/html": [
       "<div>\n",
       "<style scoped>\n",
       "    .dataframe tbody tr th:only-of-type {\n",
       "        vertical-align: middle;\n",
       "    }\n",
       "\n",
       "    .dataframe tbody tr th {\n",
       "        vertical-align: top;\n",
       "    }\n",
       "\n",
       "    .dataframe thead th {\n",
       "        text-align: right;\n",
       "    }\n",
       "</style>\n",
       "<table border=\"1\" class=\"dataframe\">\n",
       "  <thead>\n",
       "    <tr style=\"text-align: right;\">\n",
       "      <th></th>\n",
       "      <th>actual</th>\n",
       "    </tr>\n",
       "    <tr>\n",
       "      <th>userId</th>\n",
       "      <th></th>\n",
       "    </tr>\n",
       "  </thead>\n",
       "  <tbody>\n",
       "    <tr>\n",
       "      <th>158413</th>\n",
       "      <td>[2616, 1965, 1729, 2993, 3819, 1580, 8368, 236...</td>\n",
       "    </tr>\n",
       "    <tr>\n",
       "      <th>158414</th>\n",
       "      <td>[141, 3005, 2762, 1569, 1407, 830, 2706, 2605,...</td>\n",
       "    </tr>\n",
       "    <tr>\n",
       "      <th>158415</th>\n",
       "      <td>[5459, 60]</td>\n",
       "    </tr>\n",
       "    <tr>\n",
       "      <th>158416</th>\n",
       "      <td>[1466, 2918, 1097, 1729, 3363, 1721]</td>\n",
       "    </tr>\n",
       "    <tr>\n",
       "      <th>158417</th>\n",
       "      <td>[150, 1270, 44665, 1580, 21, 1196, 6857, 47200...</td>\n",
       "    </tr>\n",
       "  </tbody>\n",
       "</table>\n",
       "</div>"
      ],
      "text/plain": [
       "                                                   actual\n",
       "userId                                                   \n",
       "158413  [2616, 1965, 1729, 2993, 3819, 1580, 8368, 236...\n",
       "158414  [141, 3005, 2762, 1569, 1407, 830, 2706, 2605,...\n",
       "158415                                         [5459, 60]\n",
       "158416               [1466, 2918, 1097, 1729, 3363, 1721]\n",
       "158417  [150, 1270, 44665, 1580, 21, 1196, 6857, 47200..."
      ]
     },
     "execution_count": 13,
     "metadata": {},
     "output_type": "execute_result"
    }
   ],
   "source": [
    "test = preds.copy().groupby('userId', as_index=False)['movieId'].agg({'actual': (lambda x: list(set(x)))})\n",
    "test = test.set_index(\"userId\")\n",
    "test.head()"
   ]
  },
  {
   "cell_type": "markdown",
   "metadata": {},
   "source": [
    "# k-NN recommendations"
   ]
  },
  {
   "cell_type": "code",
   "execution_count": 14,
   "metadata": {},
   "outputs": [],
   "source": [
    "def get_users_predictions(user_id, n, model):\n",
    "    recommended_items = pd.DataFrame(model.loc[user_id])\n",
    "    recommended_items.columns = [\"predicted_rating\"]\n",
    "    recommended_items = recommended_items.sort_values('predicted_rating', ascending=False)    \n",
    "    recommended_items = recommended_items.head(n)\n",
    "    return recommended_items.index.tolist()"
   ]
  },
  {
   "cell_type": "code",
   "execution_count": 15,
   "metadata": {},
   "outputs": [
    {
     "name": "stderr",
     "output_type": "stream",
     "text": [
      "k-NN recommendations: 100%|██████████| 4129/4129 [00:09<00:00, 429.62it/s]\n"
     ]
    },
    {
     "data": {
      "text/html": [
       "<div>\n",
       "<style scoped>\n",
       "    .dataframe tbody tr th:only-of-type {\n",
       "        vertical-align: middle;\n",
       "    }\n",
       "\n",
       "    .dataframe tbody tr th {\n",
       "        vertical-align: top;\n",
       "    }\n",
       "\n",
       "    .dataframe thead th {\n",
       "        text-align: right;\n",
       "    }\n",
       "</style>\n",
       "<table border=\"1\" class=\"dataframe\">\n",
       "  <thead>\n",
       "    <tr style=\"text-align: right;\">\n",
       "      <th></th>\n",
       "      <th>actual</th>\n",
       "      <th>cf_predictions</th>\n",
       "    </tr>\n",
       "    <tr>\n",
       "      <th>userId</th>\n",
       "      <th></th>\n",
       "      <th></th>\n",
       "    </tr>\n",
       "  </thead>\n",
       "  <tbody>\n",
       "    <tr>\n",
       "      <th>158413</th>\n",
       "      <td>[2616, 1965, 1729, 2993, 3819, 1580, 8368, 236...</td>\n",
       "      <td>[3360, 2987, 2692, 3735, 5299, 2677, 3947, 285...</td>\n",
       "    </tr>\n",
       "    <tr>\n",
       "      <th>158414</th>\n",
       "      <td>[141, 3005, 2762, 1569, 1407, 830, 2706, 2605,...</td>\n",
       "      <td>[4969, 356, 8665, 4993, 2605, 141, 3176, 3005,...</td>\n",
       "    </tr>\n",
       "    <tr>\n",
       "      <th>158415</th>\n",
       "      <td>[5459, 60]</td>\n",
       "      <td>[5459, 60, 1, 55288, 55274, 55276, 55278, 5528...</td>\n",
       "    </tr>\n",
       "    <tr>\n",
       "      <th>158416</th>\n",
       "      <td>[1466, 2918, 1097, 1729, 3363, 1721]</td>\n",
       "      <td>[2918, 1097, 1466, 3363, 1721, 1729, 55292, 55...</td>\n",
       "    </tr>\n",
       "    <tr>\n",
       "      <th>158417</th>\n",
       "      <td>[150, 1270, 44665, 1580, 21, 1196, 6857, 47200...</td>\n",
       "      <td>[27618, 6857, 1580, 3635, 1036, 788, 47200, 46...</td>\n",
       "    </tr>\n",
       "  </tbody>\n",
       "</table>\n",
       "</div>"
      ],
      "text/plain": [
       "                                                   actual  \\\n",
       "userId                                                      \n",
       "158413  [2616, 1965, 1729, 2993, 3819, 1580, 8368, 236...   \n",
       "158414  [141, 3005, 2762, 1569, 1407, 830, 2706, 2605,...   \n",
       "158415                                         [5459, 60]   \n",
       "158416               [1466, 2918, 1097, 1729, 3363, 1721]   \n",
       "158417  [150, 1270, 44665, 1580, 21, 1196, 6857, 47200...   \n",
       "\n",
       "                                           cf_predictions  \n",
       "userId                                                     \n",
       "158413  [3360, 2987, 2692, 3735, 5299, 2677, 3947, 285...  \n",
       "158414  [4969, 356, 8665, 4993, 2605, 141, 3176, 3005,...  \n",
       "158415  [5459, 60, 1, 55288, 55274, 55276, 55278, 5528...  \n",
       "158416  [2918, 1097, 1466, 3363, 1721, 1729, 55292, 55...  \n",
       "158417  [27618, 6857, 1580, 3635, 1036, 788, 47200, 46...  "
      ]
     },
     "execution_count": 15,
     "metadata": {},
     "output_type": "execute_result"
    }
   ],
   "source": [
    "# make recommendations for all members in the test data\n",
    "cf_recs = [] = []\n",
    "for user in tqdm(test.index, desc='k-NN recommendations', total=len(test.index)):\n",
    "    cf_predictions = get_users_predictions(user, 10, cf_model)\n",
    "    cf_recs.append(cf_predictions)\n",
    "        \n",
    "test['cf_predictions'] = cf_recs\n",
    "test.head()"
   ]
  },
  {
   "cell_type": "markdown",
   "metadata": {},
   "source": [
    "# Popularity-based recommendations"
   ]
  },
  {
   "cell_type": "code",
   "execution_count": 16,
   "metadata": {},
   "outputs": [
    {
     "name": "stderr",
     "output_type": "stream",
     "text": [
      "Popularity-based recommendations: 100%|██████████| 4129/4129 [00:00<00:00, 758243.49it/s]\n"
     ]
    },
    {
     "data": {
      "text/html": [
       "<div>\n",
       "<style scoped>\n",
       "    .dataframe tbody tr th:only-of-type {\n",
       "        vertical-align: middle;\n",
       "    }\n",
       "\n",
       "    .dataframe tbody tr th {\n",
       "        vertical-align: top;\n",
       "    }\n",
       "\n",
       "    .dataframe thead th {\n",
       "        text-align: right;\n",
       "    }\n",
       "</style>\n",
       "<table border=\"1\" class=\"dataframe\">\n",
       "  <thead>\n",
       "    <tr style=\"text-align: right;\">\n",
       "      <th></th>\n",
       "      <th>actual</th>\n",
       "      <th>cf_predictions</th>\n",
       "      <th>pop_predictions</th>\n",
       "    </tr>\n",
       "    <tr>\n",
       "      <th>userId</th>\n",
       "      <th></th>\n",
       "      <th></th>\n",
       "      <th></th>\n",
       "    </tr>\n",
       "  </thead>\n",
       "  <tbody>\n",
       "    <tr>\n",
       "      <th>158413</th>\n",
       "      <td>[2616, 1965, 1729, 2993, 3819, 1580, 8368, 236...</td>\n",
       "      <td>[3360, 2987, 2692, 3735, 5299, 2677, 3947, 285...</td>\n",
       "      <td>[318, 356, 296, 593, 2571, 260, 527, 480, 2959...</td>\n",
       "    </tr>\n",
       "    <tr>\n",
       "      <th>158414</th>\n",
       "      <td>[141, 3005, 2762, 1569, 1407, 830, 2706, 2605,...</td>\n",
       "      <td>[4969, 356, 8665, 4993, 2605, 141, 3176, 3005,...</td>\n",
       "      <td>[318, 356, 296, 593, 2571, 260, 527, 480, 2959...</td>\n",
       "    </tr>\n",
       "    <tr>\n",
       "      <th>158415</th>\n",
       "      <td>[5459, 60]</td>\n",
       "      <td>[5459, 60, 1, 55288, 55274, 55276, 55278, 5528...</td>\n",
       "      <td>[318, 356, 296, 593, 2571, 260, 527, 480, 2959...</td>\n",
       "    </tr>\n",
       "    <tr>\n",
       "      <th>158416</th>\n",
       "      <td>[1466, 2918, 1097, 1729, 3363, 1721]</td>\n",
       "      <td>[2918, 1097, 1466, 3363, 1721, 1729, 55292, 55...</td>\n",
       "      <td>[318, 356, 296, 593, 2571, 260, 527, 480, 2959...</td>\n",
       "    </tr>\n",
       "    <tr>\n",
       "      <th>158417</th>\n",
       "      <td>[150, 1270, 44665, 1580, 21, 1196, 6857, 47200...</td>\n",
       "      <td>[27618, 6857, 1580, 3635, 1036, 788, 47200, 46...</td>\n",
       "      <td>[318, 356, 296, 593, 2571, 260, 527, 480, 2959...</td>\n",
       "    </tr>\n",
       "  </tbody>\n",
       "</table>\n",
       "</div>"
      ],
      "text/plain": [
       "                                                   actual  \\\n",
       "userId                                                      \n",
       "158413  [2616, 1965, 1729, 2993, 3819, 1580, 8368, 236...   \n",
       "158414  [141, 3005, 2762, 1569, 1407, 830, 2706, 2605,...   \n",
       "158415                                         [5459, 60]   \n",
       "158416               [1466, 2918, 1097, 1729, 3363, 1721]   \n",
       "158417  [150, 1270, 44665, 1580, 21, 1196, 6857, 47200...   \n",
       "\n",
       "                                           cf_predictions  \\\n",
       "userId                                                      \n",
       "158413  [3360, 2987, 2692, 3735, 5299, 2677, 3947, 285...   \n",
       "158414  [4969, 356, 8665, 4993, 2605, 141, 3176, 3005,...   \n",
       "158415  [5459, 60, 1, 55288, 55274, 55276, 55278, 5528...   \n",
       "158416  [2918, 1097, 1466, 3363, 1721, 1729, 55292, 55...   \n",
       "158417  [27618, 6857, 1580, 3635, 1036, 788, 47200, 46...   \n",
       "\n",
       "                                          pop_predictions  \n",
       "userId                                                     \n",
       "158413  [318, 356, 296, 593, 2571, 260, 527, 480, 2959...  \n",
       "158414  [318, 356, 296, 593, 2571, 260, 527, 480, 2959...  \n",
       "158415  [318, 356, 296, 593, 2571, 260, 527, 480, 2959...  \n",
       "158416  [318, 356, 296, 593, 2571, 260, 527, 480, 2959...  \n",
       "158417  [318, 356, 296, 593, 2571, 260, 527, 480, 2959...  "
      ]
     },
     "execution_count": 16,
     "metadata": {},
     "output_type": "execute_result"
    }
   ],
   "source": [
    "#make recommendations for all members in the test data\n",
    "popularity_recs = ratings.movieId.value_counts().head(10).index.tolist()\n",
    "\n",
    "pop_recs = []\n",
    "for user in tqdm(test.index, desc='Popularity-based recommendations', total=len(test.index)):\n",
    "    pop_predictions = popularity_recs\n",
    "    pop_recs.append(pop_predictions)\n",
    "        \n",
    "test['pop_predictions'] = pop_recs\n",
    "test.head()"
   ]
  },
  {
   "cell_type": "markdown",
   "metadata": {},
   "source": [
    "# Random recommendations"
   ]
  },
  {
   "cell_type": "code",
   "execution_count": 18,
   "metadata": {},
   "outputs": [
    {
     "name": "stderr",
     "output_type": "stream",
     "text": [
      "Random recommendations: 100%|██████████| 4129/4129 [00:00<00:00, 16031.69it/s]\n"
     ]
    },
    {
     "data": {
      "text/html": [
       "<div>\n",
       "<style scoped>\n",
       "    .dataframe tbody tr th:only-of-type {\n",
       "        vertical-align: middle;\n",
       "    }\n",
       "\n",
       "    .dataframe tbody tr th {\n",
       "        vertical-align: top;\n",
       "    }\n",
       "\n",
       "    .dataframe thead th {\n",
       "        text-align: right;\n",
       "    }\n",
       "</style>\n",
       "<table border=\"1\" class=\"dataframe\">\n",
       "  <thead>\n",
       "    <tr style=\"text-align: right;\">\n",
       "      <th></th>\n",
       "      <th>actual</th>\n",
       "      <th>cf_predictions</th>\n",
       "      <th>pop_predictions</th>\n",
       "      <th>random_predictions</th>\n",
       "    </tr>\n",
       "    <tr>\n",
       "      <th>userId</th>\n",
       "      <th></th>\n",
       "      <th></th>\n",
       "      <th></th>\n",
       "      <th></th>\n",
       "    </tr>\n",
       "  </thead>\n",
       "  <tbody>\n",
       "    <tr>\n",
       "      <th>158413</th>\n",
       "      <td>[2616, 1965, 1729, 2993, 3819, 1580, 8368, 236...</td>\n",
       "      <td>[3360, 2987, 2692, 3735, 5299, 2677, 3947, 285...</td>\n",
       "      <td>[318, 356, 296, 593, 2571, 260, 527, 480, 2959...</td>\n",
       "      <td>[539, 8957, 8644, 1476, 5378, 720, 3968, 1517,...</td>\n",
       "    </tr>\n",
       "    <tr>\n",
       "      <th>158414</th>\n",
       "      <td>[141, 3005, 2762, 1569, 1407, 830, 2706, 2605,...</td>\n",
       "      <td>[4969, 356, 8665, 4993, 2605, 141, 3176, 3005,...</td>\n",
       "      <td>[318, 356, 296, 593, 2571, 260, 527, 480, 2959...</td>\n",
       "      <td>[80939, 356, 73023, 1210, 30846, 1014, 7112, 4...</td>\n",
       "    </tr>\n",
       "    <tr>\n",
       "      <th>158415</th>\n",
       "      <td>[5459, 60]</td>\n",
       "      <td>[5459, 60, 1, 55288, 55274, 55276, 55278, 5528...</td>\n",
       "      <td>[318, 356, 296, 593, 2571, 260, 527, 480, 2959...</td>\n",
       "      <td>[68954, 592, 68358, 1241, 1207, 47, 86332, 497...</td>\n",
       "    </tr>\n",
       "    <tr>\n",
       "      <th>158416</th>\n",
       "      <td>[1466, 2918, 1097, 1729, 3363, 1721]</td>\n",
       "      <td>[2918, 1097, 1466, 3363, 1721, 1729, 55292, 55...</td>\n",
       "      <td>[318, 356, 296, 593, 2571, 260, 527, 480, 2959...</td>\n",
       "      <td>[380, 898, 59126, 44555, 4718, 1378, 54272, 71...</td>\n",
       "    </tr>\n",
       "    <tr>\n",
       "      <th>158417</th>\n",
       "      <td>[150, 1270, 44665, 1580, 21, 1196, 6857, 47200...</td>\n",
       "      <td>[27618, 6857, 1580, 3635, 1036, 788, 47200, 46...</td>\n",
       "      <td>[318, 356, 296, 593, 2571, 260, 527, 480, 2959...</td>\n",
       "      <td>[6952, 3897, 160289, 357, 48780, 3477, 56367, ...</td>\n",
       "    </tr>\n",
       "  </tbody>\n",
       "</table>\n",
       "</div>"
      ],
      "text/plain": [
       "                                                   actual  \\\n",
       "userId                                                      \n",
       "158413  [2616, 1965, 1729, 2993, 3819, 1580, 8368, 236...   \n",
       "158414  [141, 3005, 2762, 1569, 1407, 830, 2706, 2605,...   \n",
       "158415                                         [5459, 60]   \n",
       "158416               [1466, 2918, 1097, 1729, 3363, 1721]   \n",
       "158417  [150, 1270, 44665, 1580, 21, 1196, 6857, 47200...   \n",
       "\n",
       "                                           cf_predictions  \\\n",
       "userId                                                      \n",
       "158413  [3360, 2987, 2692, 3735, 5299, 2677, 3947, 285...   \n",
       "158414  [4969, 356, 8665, 4993, 2605, 141, 3176, 3005,...   \n",
       "158415  [5459, 60, 1, 55288, 55274, 55276, 55278, 5528...   \n",
       "158416  [2918, 1097, 1466, 3363, 1721, 1729, 55292, 55...   \n",
       "158417  [27618, 6857, 1580, 3635, 1036, 788, 47200, 46...   \n",
       "\n",
       "                                          pop_predictions  \\\n",
       "userId                                                      \n",
       "158413  [318, 356, 296, 593, 2571, 260, 527, 480, 2959...   \n",
       "158414  [318, 356, 296, 593, 2571, 260, 527, 480, 2959...   \n",
       "158415  [318, 356, 296, 593, 2571, 260, 527, 480, 2959...   \n",
       "158416  [318, 356, 296, 593, 2571, 260, 527, 480, 2959...   \n",
       "158417  [318, 356, 296, 593, 2571, 260, 527, 480, 2959...   \n",
       "\n",
       "                                       random_predictions  \n",
       "userId                                                     \n",
       "158413  [539, 8957, 8644, 1476, 5378, 720, 3968, 1517,...  \n",
       "158414  [80939, 356, 73023, 1210, 30846, 1014, 7112, 4...  \n",
       "158415  [68954, 592, 68358, 1241, 1207, 47, 86332, 497...  \n",
       "158416  [380, 898, 59126, 44555, 4718, 1378, 54272, 71...  \n",
       "158417  [6952, 3897, 160289, 357, 48780, 3477, 56367, ...  "
      ]
     },
     "execution_count": 18,
     "metadata": {},
     "output_type": "execute_result"
    }
   ],
   "source": [
    "# make recommendations for all members in the test data\n",
    "\n",
    "ran_recs = []\n",
    "movies = ratings.movieId.values.tolist()\n",
    "\n",
    "for user in tqdm(test.index, desc='Random recommendations', total=len(test.index)):\n",
    "    random_predictions = sample(movies, 10)\n",
    "    ran_recs.append(random_predictions)\n",
    "        \n",
    "test['random_predictions'] = ran_recs\n",
    "test.head()"
   ]
  },
  {
   "cell_type": "code",
   "execution_count": 25,
   "metadata": {},
   "outputs": [],
   "source": []
  },
  {
   "cell_type": "markdown",
   "metadata": {},
   "source": [
    "# Model Evaluation"
   ]
  },
  {
   "cell_type": "code",
   "execution_count": 19,
   "metadata": {},
   "outputs": [],
   "source": [
    "actual = test.actual.values.tolist()\n",
    "cf_predictions = test.cf_predictions.values.tolist()\n",
    "pop_predictions = test.pop_predictions.values.tolist()\n",
    "random_predictions = test.random_predictions.values.tolist()"
   ]
  },
  {
   "cell_type": "code",
   "execution_count": 20,
   "metadata": {},
   "outputs": [
    {
     "data": {
      "text/plain": [
       "[0.0, 0.0, 0.0, 0.0, 0.0, 0.0, 0.0, 0.0, 0.0, 0.0]"
      ]
     },
     "execution_count": 20,
     "metadata": {},
     "output_type": "execute_result"
    }
   ],
   "source": [
    "pop_mark = []\n",
    "for K in np.arange(1, 11):\n",
    "    pop_mark.extend([mark(actual, pop_predictions, k=K)])\n",
    "pop_mark"
   ]
  },
  {
   "cell_type": "code",
   "execution_count": 21,
   "metadata": {},
   "outputs": [
    {
     "data": {
      "text/plain": [
       "[0.0, 0.0, 0.0, 0.0, 0.0, 0.0, 0.0, 0.0, 0.0, 0.0]"
      ]
     },
     "execution_count": 21,
     "metadata": {},
     "output_type": "execute_result"
    }
   ],
   "source": [
    "random_mark = []\n",
    "for K in np.arange(1, 11):\n",
    "    random_mark.extend([mark(actual, random_predictions, k=K)])\n",
    "random_mark"
   ]
  },
  {
   "cell_type": "code",
   "execution_count": 22,
   "metadata": {},
   "outputs": [
    {
     "data": {
      "text/plain": [
       "[0.0807992121592752,\n",
       " 0.16014528796592264,\n",
       " 0.23610071228310536,\n",
       " 0.3060821315950406,\n",
       " 0.3680713009675232,\n",
       " 0.4221166582789741,\n",
       " 0.46966326690228416,\n",
       " 0.5110513452692195,\n",
       " 0.5469296149657746,\n",
       " 0.5783946557395342]"
      ]
     },
     "execution_count": 22,
     "metadata": {},
     "output_type": "execute_result"
    }
   ],
   "source": [
    "cf_mark = []\n",
    "for K in np.arange(1, 11):\n",
    "    cf_mark.extend([mark(actual, cf_predictions, k=K)])\n",
    "cf_mark"
   ]
  },
  {
   "cell_type": "code",
   "execution_count": 23,
   "metadata": {},
   "outputs": [
    {
     "data": {
      "text/html": [
       "<div>\n",
       "<style scoped>\n",
       "    .dataframe tbody tr th:only-of-type {\n",
       "        vertical-align: middle;\n",
       "    }\n",
       "\n",
       "    .dataframe tbody tr th {\n",
       "        vertical-align: top;\n",
       "    }\n",
       "\n",
       "    .dataframe thead th {\n",
       "        text-align: right;\n",
       "    }\n",
       "</style>\n",
       "<table border=\"1\" class=\"dataframe\">\n",
       "  <thead>\n",
       "    <tr style=\"text-align: right;\">\n",
       "      <th></th>\n",
       "      <th>actual</th>\n",
       "      <th>cf_predictions</th>\n",
       "      <th>pop_predictions</th>\n",
       "      <th>random_predictions</th>\n",
       "    </tr>\n",
       "    <tr>\n",
       "      <th>userId</th>\n",
       "      <th></th>\n",
       "      <th></th>\n",
       "      <th></th>\n",
       "      <th></th>\n",
       "    </tr>\n",
       "  </thead>\n",
       "  <tbody>\n",
       "    <tr>\n",
       "      <th>158413</th>\n",
       "      <td>[2616, 1965, 1729, 2993, 3819, 1580, 8368, 236...</td>\n",
       "      <td>[3360, 2987, 2692, 3735, 5299, 2677, 3947, 285...</td>\n",
       "      <td>[318, 356, 296, 593, 2571, 260, 527, 480, 2959...</td>\n",
       "      <td>[539, 8957, 8644, 1476, 5378, 720, 3968, 1517,...</td>\n",
       "    </tr>\n",
       "    <tr>\n",
       "      <th>158414</th>\n",
       "      <td>[141, 3005, 2762, 1569, 1407, 830, 2706, 2605,...</td>\n",
       "      <td>[4969, 356, 8665, 4993, 2605, 141, 3176, 3005,...</td>\n",
       "      <td>[318, 356, 296, 593, 2571, 260, 527, 480, 2959...</td>\n",
       "      <td>[80939, 356, 73023, 1210, 30846, 1014, 7112, 4...</td>\n",
       "    </tr>\n",
       "    <tr>\n",
       "      <th>158415</th>\n",
       "      <td>[5459, 60]</td>\n",
       "      <td>[5459, 60, 1, 55288, 55274, 55276, 55278, 5528...</td>\n",
       "      <td>[318, 356, 296, 593, 2571, 260, 527, 480, 2959...</td>\n",
       "      <td>[68954, 592, 68358, 1241, 1207, 47, 86332, 497...</td>\n",
       "    </tr>\n",
       "    <tr>\n",
       "      <th>158416</th>\n",
       "      <td>[1466, 2918, 1097, 1729, 3363, 1721]</td>\n",
       "      <td>[2918, 1097, 1466, 3363, 1721, 1729, 55292, 55...</td>\n",
       "      <td>[318, 356, 296, 593, 2571, 260, 527, 480, 2959...</td>\n",
       "      <td>[380, 898, 59126, 44555, 4718, 1378, 54272, 71...</td>\n",
       "    </tr>\n",
       "    <tr>\n",
       "      <th>158417</th>\n",
       "      <td>[150, 1270, 44665, 1580, 21, 1196, 6857, 47200...</td>\n",
       "      <td>[27618, 6857, 1580, 3635, 1036, 788, 47200, 46...</td>\n",
       "      <td>[318, 356, 296, 593, 2571, 260, 527, 480, 2959...</td>\n",
       "      <td>[6952, 3897, 160289, 357, 48780, 3477, 56367, ...</td>\n",
       "    </tr>\n",
       "  </tbody>\n",
       "</table>\n",
       "</div>"
      ],
      "text/plain": [
       "                                                   actual  \\\n",
       "userId                                                      \n",
       "158413  [2616, 1965, 1729, 2993, 3819, 1580, 8368, 236...   \n",
       "158414  [141, 3005, 2762, 1569, 1407, 830, 2706, 2605,...   \n",
       "158415                                         [5459, 60]   \n",
       "158416               [1466, 2918, 1097, 1729, 3363, 1721]   \n",
       "158417  [150, 1270, 44665, 1580, 21, 1196, 6857, 47200...   \n",
       "\n",
       "                                           cf_predictions  \\\n",
       "userId                                                      \n",
       "158413  [3360, 2987, 2692, 3735, 5299, 2677, 3947, 285...   \n",
       "158414  [4969, 356, 8665, 4993, 2605, 141, 3176, 3005,...   \n",
       "158415  [5459, 60, 1, 55288, 55274, 55276, 55278, 5528...   \n",
       "158416  [2918, 1097, 1466, 3363, 1721, 1729, 55292, 55...   \n",
       "158417  [27618, 6857, 1580, 3635, 1036, 788, 47200, 46...   \n",
       "\n",
       "                                          pop_predictions  \\\n",
       "userId                                                      \n",
       "158413  [318, 356, 296, 593, 2571, 260, 527, 480, 2959...   \n",
       "158414  [318, 356, 296, 593, 2571, 260, 527, 480, 2959...   \n",
       "158415  [318, 356, 296, 593, 2571, 260, 527, 480, 2959...   \n",
       "158416  [318, 356, 296, 593, 2571, 260, 527, 480, 2959...   \n",
       "158417  [318, 356, 296, 593, 2571, 260, 527, 480, 2959...   \n",
       "\n",
       "                                       random_predictions  \n",
       "userId                                                     \n",
       "158413  [539, 8957, 8644, 1476, 5378, 720, 3968, 1517,...  \n",
       "158414  [80939, 356, 73023, 1210, 30846, 1014, 7112, 4...  \n",
       "158415  [68954, 592, 68358, 1241, 1207, 47, 86332, 497...  \n",
       "158416  [380, 898, 59126, 44555, 4718, 1378, 54272, 71...  \n",
       "158417  [6952, 3897, 160289, 357, 48780, 3477, 56367, ...  "
      ]
     },
     "execution_count": 23,
     "metadata": {},
     "output_type": "execute_result"
    }
   ],
   "source": [
    "test.head()"
   ]
  },
  {
   "cell_type": "code",
   "execution_count": 24,
   "metadata": {
    "collapsed": false,
    "jupyter": {
     "outputs_hidden": false
    },
    "pycharm": {
     "name": "#%%\n"
    }
   },
   "outputs": [
    {
     "name": "stdout",
     "output_type": "stream",
     "text": [
      "MSE:  1.4481031863349245\n",
      "RMSE:  1.2033715911284113\n"
     ]
    }
   ],
   "source": [
    "print(\"MSE: \", mse(preds.actual, preds.cf_predictions))\n",
    "print(\"RMSE: \", rmse(preds.actual, preds.cf_predictions))"
   ]
  },
  {
   "cell_type": "code",
   "execution_count": 25,
   "metadata": {},
   "outputs": [
    {
     "data": {
      "image/png": "[encoded data removed]",
      "text/plain": [
       "<Figure size 1080x504 with 1 Axes>"
      ]
     },
     "metadata": {
      "needs_background": "light"
     },
     "output_type": "display_data"
    }
   ],
   "source": [
    "mark_scores = [random_mark, pop_mark, cf_mark]\n",
    "index = range(1,11)\n",
    "names = ['Random Recommender', 'Popularity Recommender', 'Collaborative Filter']\n",
    "\n",
    "fig = plt.figure(figsize=(15, 7))\n",
    "mark_plot(mark_scores, model_names=names, k_range=index)"
   ]
  },
  {
   "cell_type": "markdown",
   "metadata": {},
   "source": [
    "# Saving predictions & model"
   ]
  },
  {
   "cell_type": "code",
   "execution_count": 26,
   "metadata": {},
   "outputs": [
    {
     "name": "stdout",
     "output_type": "stream",
     "text": [
      "The dump has been saved as file ../../artifacts/k-nn.dump\n"
     ]
    }
   ],
   "source": [
    "dumping_path = join(_HERE, '..', '..', 'artifacts', 'k-nn.dump')\n",
    "dump(dumping_path, algo=algo, verbose=1)"
   ]
  },
  {
   "cell_type": "code",
   "execution_count": null,
   "metadata": {},
   "outputs": [],
   "source": []
  }
 ],
 "metadata": {
  "kernelspec": {
   "display_name": "Python 3",
   "language": "python",
   "name": "python3"
  },
  "language_info": {
   "codemirror_mode": {
    "name": "ipython",
    "version": 3
   },
   "file_extension": ".py",
   "mimetype": "text/x-python",
   "name": "python",
   "nbconvert_exporter": "python",
   "pygments_lexer": "ipython3",
   "version": "3.8.5"
  }
 },
 "nbformat": 4,
 "nbformat_minor": 4
}
